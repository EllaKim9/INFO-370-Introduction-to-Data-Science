{
 "cells": [
  {
   "cell_type": "markdown",
   "id": "11460fd8-335e-46ad-a1df-e961a2f9b65b",
   "metadata": {},
   "source": [
    "# Info 370 HW 04\n",
    "\n",
    "Name: Ella Kim   \n",
    "\n",
    "*Citations are hyperlinkedn (none for this particular HW)*\n",
    "\n",
    "## Explore Central Limit Theorem\n",
    "\n",
    "In this section you will see how does Central Limit Theorem (CLT) work. CLT states\n",
    "two things:  \n",
    "\n",
    "1. Means of random numbers tend to be normally distributed if the sample gets large.  \n",
    "\n",
    "2. Variance of the mean tends to be 1\n",
    "SVar X where S is the sample size and X is the random\n",
    "variable we are analyzing.  \n",
    "\n",
    "(This is actually a direct result of definition of expectation, and independence not really\n",
    "CLT. But CLT is closely related to this result.)  \n",
    "\n",
    "CLT, and how variance and mean value change when sample size increases, plays a very\n",
    "important role in computing confidence intervals later.  \n",
    "The problem contains two tasks: work with Bernoulli-distributed numbers (discrete distribution), and with Pareto-distributed numbers (continuous distribution).  \n",
    "The task is structured in a way that you may want to create a function that takes in\n",
    "sample size S and outputs all needed results, including the histogram. There will be quite a\n",
    "bit of repetitive coding otherwise.\n",
    "\n",
    "\n",
    "### 1.1: Discrete Random Variables\n",
    "\n",
    "We start with a distribution that does not look at all normal. We create a RV  \n",
    "X = {\n",
    "−1 with probability 0.5; \n",
    "1 with probability 0.5.  \n",
    "One way to sample such realizations is\n",
    "np.random.randint(0,2, size=100)*2 - 1\n"
   ]
  },
  {
   "cell_type": "code",
   "execution_count": 2,
   "id": "db038caa-712a-4676-b193-e61001fad908",
   "metadata": {},
   "outputs": [],
   "source": [
    "# np.random.randint(0,2, size=100)*2 - 1"
   ]
  },
  {
   "cell_type": "markdown",
   "id": "438d9a04-f240-4183-9367-74aa3de7d1ea",
   "metadata": {},
   "source": [
    "#### 1\n",
    "Calculate the expected value and variance of this random variable. Note: these\n",
    "are theoretical values and not related to any samples.  \n",
    "\n",
    "Hint: read lecture notes 1.3.4 (Expected Value and Variance), and Openintro Statistics 3.4 (Random variables), in particular 3.4.2 (Variability). I recommend to use the\n",
    "shortcut formula Var X = E X\n",
    "^2 − (E X)\n",
    "^2\n",
    "."
   ]
  },
  {
   "cell_type": "code",
   "execution_count": 417,
   "id": "cc9665ca-ba38-4d90-9823-1980d679e706",
   "metadata": {},
   "outputs": [
    {
     "name": "stdout",
     "output_type": "stream",
     "text": [
      "Expected value: 0.0\n",
      "Variance: 1.0\n"
     ]
    }
   ],
   "source": [
    "# imports\n",
    "import pandas as pd\n",
    "import numpy as np\n",
    "import math\n",
    "import matplotlib.pyplot as plt\n",
    "\n",
    "# did not set seeds as overall pattern should be same regardless, and instructions did not say to do so\n",
    "\n",
    "# for example to see how works\n",
    "sample = np.random.randint(0,2, size=100)*2 - 1\n",
    "list_sample = sample.tolist()\n",
    "\n",
    "#calculate expected X for binomial \n",
    "expected_val_x = (.5)*(-1) + (.5)*(1)\n",
    "#expected_val_x #sanity checks, would ideally be 0 for 50/50 probablility \n",
    "\n",
    "#(-1^2 = 1 and 1^2 = 1)\n",
    "variance_x = (.5)*(1) + (.5)*(1) - (expected_val_x)**2 #technically 0\n",
    "#variance_x #sanity check, would ideally be 1 for .5 + .5 probablility \n",
    "\n",
    "print(\"Expected value: \" + str(expected_val_x))\n",
    "print(\"Variance: \" + str(variance_x))"
   ]
  },
  {
   "cell_type": "markdown",
   "id": "6acb57d5-b121-4953-9664-dc68148d3017",
   "metadata": {},
   "source": [
    "#### 2\n",
    "Choose your number of repetitions R. 1000 is a good number but you can also\n",
    "take 10,000 or 100,000 to get smoother histograms.\n",
    "\n",
    "Note: number of repetitions R is not the same as sample size S here. You will create\n",
    "samples of size S for R times. For instance you create R = 1000 times a sample of size\n",
    "S = 5. Please understand the difference, it is a fequent source of confusion!\n"
   ]
  },
  {
   "cell_type": "code",
   "execution_count": 418,
   "id": "178b26fe-7ada-4edd-a518-d074f6827757",
   "metadata": {},
   "outputs": [],
   "source": [
    "num_trials = 1000  #took suggested number in directions"
   ]
  },
  {
   "cell_type": "markdown",
   "id": "2560540b-6815-4c9d-96cf-6d51e11995e4",
   "metadata": {},
   "source": [
    "#### 3\n",
    "\n",
    "Create a vector of R random realizations of X. Make a histogram of those. Comment the shape of the histogram.\n",
    "\n",
    "\n",
    "Note: in this case we have R = 1000 repetitions and samples of size S = 1–we look at\n",
    "individual realizations."
   ]
  },
  {
   "cell_type": "code",
   "execution_count": 419,
   "id": "ee07c023-0646-4bdc-9411-29f09bd0f3a2",
   "metadata": {},
   "outputs": [
    {
     "data": {
      "image/png": "[encoded data removed]",
      "text/plain": [
       "<Figure size 432x288 with 1 Axes>"
      ]
     },
     "metadata": {
      "needs_background": "light"
     },
     "output_type": "display_data"
    }
   ],
   "source": [
    "individ = []\n",
    "#getting 1000 single random of -1 or 1\n",
    "for i in range(0,num_trials):\n",
    "    ind_val = np.random.randint(0,2, size=1)*2 - 1\n",
    "    individ.append(ind_val[0])\n",
    "#individ #sanity check\n",
    "\n",
    "#plot histogram of R single \n",
    "plt.hist(individ)\n",
    "plt.show()"
   ]
  },
  {
   "cell_type": "markdown",
   "id": "8b6ede0b-5b60-4865-b888-320b4984380d",
   "metadata": {},
   "source": [
    "There is hardly a shape except a clear bimodal distribution in ~half of the data is in the +/- 0.75-1.00 bins. "
   ]
  },
  {
   "cell_type": "markdown",
   "id": "5c1c429f-d077-4b84-85d1-ed23b03d6b75",
   "metadata": {},
   "source": [
    "#### 4\n",
    "\n",
    " Compute and report mean and variance of the sample you created (just use\n",
    "np.mean and np.var). Compare these numbers with the theoretical values computed\n",
    "in 1.\n"
   ]
  },
  {
   "cell_type": "code",
   "execution_count": 420,
   "id": "bd83fe04-9267-4294-aa52-1d6be0b892e1",
   "metadata": {},
   "outputs": [
    {
     "name": "stdout",
     "output_type": "stream",
     "text": [
      "Mean: -0.042\n",
      "Variance: 0.9982360000000001\n"
     ]
    }
   ],
   "source": [
    "#calculate mean and var of R individual random trials of -1, 1 \n",
    "mean_individ = np.mean(individ)\n",
    "var_individ = np.var(individ)\n",
    "\n",
    "#print sample results\n",
    "print(\"Mean: \" + str(mean_individ))\n",
    "print(\"Variance: \" + str(var_individ))"
   ]
  },
  {
   "cell_type": "markdown",
   "id": "e0c6806b-1f88-43d4-97e6-c55b18e930b7",
   "metadata": {},
   "source": [
    "The values in this section are very close to the intuitive 50/50 probability, as the mean is close to 0 and the variance is close to 1."
   ]
  },
  {
   "cell_type": "markdown",
   "id": "ee160fd4-cfe3-4cd8-9616-dc97343df972",
   "metadata": {},
   "source": [
    "#### 5\n",
    "\n",
    " Now create R pairs of random realizations of X (i.e. sample size S = 2). For each\n",
    "pair, compute its mean. You should have R means. Make the histogram. How does this\n",
    "look like? \n",
    "\n",
    "Hint: while you can do this using loops, it is more useful to create a R × 2 matrix of\n",
    "realizations of X, where each row represents one pair. Thereafter you compute means\n",
    "by rows and you have R pair means. See python notes numpy statistical functions for\n",
    "an example.\n"
   ]
  },
  {
   "cell_type": "code",
   "execution_count": 421,
   "id": "48b9c9ff-d406-4f68-937d-b18de3c4e462",
   "metadata": {},
   "outputs": [
    {
     "data": {
      "image/png": "[encoded data removed]",
      "text/plain": [
       "<Figure size 432x288 with 1 Axes>"
      ]
     },
     "metadata": {
      "needs_background": "light"
     },
     "output_type": "display_data"
    }
   ],
   "source": [
    "#make function to get mean and var: for efficiency\n",
    "def getStats(x):\n",
    "    stats = []\n",
    "    stats.append(np.mean(x))\n",
    "    stats.append(np.var(x))\n",
    "    return stats\n",
    "\n",
    "#make function to get the R trials of size s random drawings of -1, 1\n",
    "def getRand(s):\n",
    "    pairs = []\n",
    "    mean_pairs = []\n",
    "    for i in range(0, num_trials):\n",
    "        curr_trial = np.random.randint(0,2, size=s)*2 - 1\n",
    "        pairs.append(curr_trial)\n",
    "        pairs_stats = getStats(curr_trial)\n",
    "        mean_pairs.append(pairs_stats[0])\n",
    "    return(mean_pairs)\n",
    "\n",
    "#get R vector for pairs\n",
    "mean_pairs = getRand(2)\n",
    "\n",
    "#plot results\n",
    "plt.hist(mean_pairs)\n",
    "plt.show()"
   ]
  },
  {
   "cell_type": "markdown",
   "id": "b1d342a3-b570-4bb0-ad4b-b2a3c111c2ed",
   "metadata": {},
   "source": [
    "It appears, that out of the R (1000) trials, half of the means were 0 and the rest either -1 or 1 (as of now, appears like a multimodal distribution)\n"
   ]
  },
  {
   "cell_type": "markdown",
   "id": "e9f24a18-6ea4-4d13-bd8b-61ad56fe6ca3",
   "metadata": {},
   "source": [
    "#### 6\n",
    "\n",
    "Compute and report mean of the R pair means, and variance of the means."
   ]
  },
  {
   "cell_type": "code",
   "execution_count": 422,
   "id": "77f2e8db-30a7-4538-85ba-7d171b3f113c",
   "metadata": {},
   "outputs": [
    {
     "name": "stdout",
     "output_type": "stream",
     "text": [
      "Mean of R pair means: 0.034\n",
      "Variance of R pair means: 0.48484399999999994\n"
     ]
    }
   ],
   "source": [
    "#print sample results\n",
    "print(\"Mean of R pair means: \" + str(np.mean(mean_pairs)))\n",
    "print(\"Variance of R pair means: \" + str(np.var(mean_pairs)))"
   ]
  },
  {
   "cell_type": "markdown",
   "id": "138ded25-da37-49ca-b255-028d3de84ea3",
   "metadata": {},
   "source": [
    "#### 7\n",
    "\n",
    "Compute the expected value and variance of the pair means, i.e. the theoretical\n",
    "concepts. Compare the theoretical values with the sample values above.  \n",
    "\n",
    "Note that according to CLT tells, the variance of a pair mean should be just 1/2 of what\n",
    "you got above as for pairs S = 2."
   ]
  },
  {
   "cell_type": "code",
   "execution_count": 423,
   "id": "f83868e4-470b-458d-bb41-2af0431dc516",
   "metadata": {},
   "outputs": [
    {
     "name": "stdout",
     "output_type": "stream",
     "text": [
      "Expected value of pair means: 0.0\n",
      "Variance of pair means by hand: 0.5\n"
     ]
    }
   ],
   "source": [
    "#calculate E(X) and var of RV / s\n",
    "#diff types of outcomes: (-1,1)/(1,-1), (1,1), and (-1,-1), so means (0, 1, and -1)\n",
    "ev_pairs = (1/2)*(0)+(1/4)*(-1)+(1/4)*(1) #just to confirm that E(X) will always be 0\n",
    "#((-1)^2 = 1, 0^2 = 0, and 1^2 = 1)\n",
    "var_pairs = ((1/4)*(1) + \n",
    "              (1/2)*(0) + \n",
    "              (1/4)*(1)) - ev_pairs**2\n",
    "\n",
    "#print theoretical results\n",
    "print(\"Expected value of pair means: \" + str(ev_pairs))\n",
    "print(\"Variance of pair means by hand: \" + str(var_pairs))"
   ]
  },
  {
   "cell_type": "markdown",
   "id": "32662ad0-1928-42fc-a81b-4e5cf521ca4d",
   "metadata": {},
   "source": [
    "The correpsonding values are similar to one another (i.e. small difference)\n",
    "\n",
    "*Instructor stated in Microsoft Teams that sample mean = variance of RV / sample size s"
   ]
  },
  {
   "cell_type": "markdown",
   "id": "a2f79ccc-7173-4432-8de7-4878a636bcae",
   "metadata": {},
   "source": [
    "#### 8\n",
    "\n",
    "Now instead of pairs of random numbers, repeat this with 5-tuples of random\n",
    "numbers (i.e. S = 5 random numbers per one repetition, and still R = 1000 repetitions\n",
    "in total). Compare the theoretical and sample version of mean and variance of 5-tuples.\n",
    "Are they similar? Do you spot any noticeable differences in the histogram compared to\n",
    "your previous histogram?\n"
   ]
  },
  {
   "cell_type": "code",
   "execution_count": 424,
   "id": "3a36ece7-69ba-4fa2-a978-51e92e44e7d9",
   "metadata": {},
   "outputs": [
    {
     "name": "stdout",
     "output_type": "stream",
     "text": [
      "Mean of R 5-tuples means: -0.012799999999999997\n",
      "Variance of R 5-tuples means: 0.19407616000000003\n",
      "Expected value of pair means: 0.0\n",
      "Variance of pair means: 0.2\n"
     ]
    },
    {
     "data": {
      "image/png": "[encoded data removed]",
      "text/plain": [
       "<Figure size 432x288 with 1 Axes>"
      ]
     },
     "metadata": {
      "needs_background": "light"
     },
     "output_type": "display_data"
    }
   ],
   "source": [
    "#get R vector for 5 s\n",
    "mean_five = getRand(5)\n",
    "\n",
    "#plot results\n",
    "plt.hist(mean_five)\n",
    "\n",
    "#print sample results\n",
    "print(\"Mean of R 5-tuples means: \" + str(np.mean(mean_five)))\n",
    "print(\"Variance of R 5-tuples means: \" + str(np.var(mean_five)))\n",
    "\n",
    "#calculate E(X) and var of RV / s\n",
    "ev_five = (1/32)*(1)+(1/32)*(-1)+(5/32)*(4/5)+(5/32)*(-4/5)+(10/32)*(1/5)+(10/32)*(-1/5)\n",
    "\n",
    "#print theoretical results\n",
    "print(\"Expected value of pair means: \" + str(ev_five)) #just to confirm that E(X) will always be 0\n",
    "print(\"Variance of pair means: \" + str(variance_x/5)) # first variance of RV / by 5\n"
   ]
  },
  {
   "cell_type": "markdown",
   "id": "05bbf10a-540f-4860-becd-84516be37c2f",
   "metadata": {},
   "source": [
    "Like the last section, the corresponding values are very similar, but now the difference is smaller, which would make me think that, as this graph is becoming more normal-distribution looking, the sample mean and variance will become closer and closer to the theoretical mean and variance "
   ]
  },
  {
   "cell_type": "markdown",
   "id": "0c1d2471-96ae-4cb3-8882-f809bcc4cfd3",
   "metadata": {},
   "source": [
    "#### 9\n",
    "\n",
    "\n",
    "Repeat with 25-tuples..."
   ]
  },
  {
   "cell_type": "code",
   "execution_count": 425,
   "id": "986e9e81-55fa-4f97-8291-4249a46185ab",
   "metadata": {},
   "outputs": [
    {
     "data": {
      "image/png": "[encoded data removed]",
      "text/plain": [
       "<Figure size 432x288 with 1 Axes>"
      ]
     },
     "metadata": {
      "needs_background": "light"
     },
     "output_type": "display_data"
    },
    {
     "name": "stdout",
     "output_type": "stream",
     "text": [
      "Mean of R 5-tuples means: 0.0044\n",
      "Variance of R 5-tuples means: 0.04183664\n",
      "Expected value of pair means: 0.0\n",
      "Variance of pair means: 0.04\n"
     ]
    }
   ],
   "source": [
    "#get R vector for 5 s\n",
    "mean_twentyfive = getRand(25)\n",
    "\n",
    "#plot results\n",
    "plt.hist(mean_twentyfive)\n",
    "plt.show()\n",
    "\n",
    "#print sample results\n",
    "print(\"Mean of R 5-tuples means: \" + str(np.mean(mean_twentyfive)))\n",
    "print(\"Variance of R 5-tuples means: \" + str(np.var(mean_twentyfive)))\n",
    "\n",
    "#print theoretical results\n",
    "# from here on, EX should always be 0\n",
    "print(\"Expected value of pair means: \" + str(ev_five))\n",
    "print(\"Variance of pair means: \" + str(variance_x/25)) # first variance of RV / by 5"
   ]
  },
  {
   "cell_type": "markdown",
   "id": "265e6a85-0c0f-4ea6-83e6-8cf57fc7fc90",
   "metadata": {},
   "source": [
    "Now there are no longer significant gaps of values between -1 and 1, where one could say that the distribution is now unimodal (but not yet very normal-looking)."
   ]
  },
  {
   "cell_type": "markdown",
   "id": "afc81258-35b5-4c9b-a306-7209d5ccf75f",
   "metadata": {},
   "source": [
    "#### 10\n",
    "\n",
    " ... and with 1000-tuples.\n"
   ]
  },
  {
   "cell_type": "code",
   "execution_count": 426,
   "id": "64f96f37-bfe6-4f25-a345-d61ec50979c1",
   "metadata": {},
   "outputs": [
    {
     "data": {
      "image/png": "[encoded data removed]",
      "text/plain": [
       "<Figure size 432x288 with 1 Axes>"
      ]
     },
     "metadata": {
      "needs_background": "light"
     },
     "output_type": "display_data"
    },
    {
     "name": "stdout",
     "output_type": "stream",
     "text": [
      "Mean of R 5-tuples means: 0.00286\n",
      "Variance of R 5-tuples means: 0.0010252124\n",
      "Expected value of pair means: 0.0\n",
      "Variance of pair means: 0.001\n"
     ]
    }
   ],
   "source": [
    "#get R vector for 1000 s\n",
    "mean_thousand = getRand(1000)\n",
    "\n",
    "#plot results\n",
    "plt.hist(mean_thousand)\n",
    "plt.show()\n",
    "\n",
    "#print sample results\n",
    "print(\"Mean of R 5-tuples means: \" + str(np.mean(mean_thousand)))\n",
    "print(\"Variance of R 5-tuples means: \" + str(np.var(mean_thousand)))\n",
    "\n",
    "#print theoretical results\n",
    "print(\"Expected value of pair means: \" + str(ev_five))\n",
    "print(\"Variance of pair means: \" + str(variance_x/1000)) # first variance of RV / by 5"
   ]
  },
  {
   "cell_type": "markdown",
   "id": "50fe9163-10d0-479d-be9f-91b0b8e47493",
   "metadata": {},
   "source": [
    "The plot now looks for certain normal compared to the previous one, confirming the predicted pattern that as size/tuple increses, the closer the mean and variance are to 0"
   ]
  },
  {
   "cell_type": "markdown",
   "id": "6a9068d1-b78f-43fc-843a-058695501b9e",
   "metadata": {},
   "source": [
    "#### 11\n",
    "\n",
    "Comment on the tuple size, and the shape of the histogram."
   ]
  },
  {
   "cell_type": "markdown",
   "id": "516afe6b-bfb7-4f66-b614-5057c1f0db97",
   "metadata": {},
   "source": [
    "As the tuple size increases, the more the binomial proability's means look like a normal distribtion"
   ]
  },
  {
   "cell_type": "markdown",
   "id": "9785b998-1b25-4662-acd1-1771ecafec81",
   "metadata": {},
   "source": [
    "#### 12\n",
    "\n",
    " Explain why do the histograms resemble normal distribution as S grows.\n",
    "In particular, explain what happens when we move from single values S = 1 to pairs\n",
    "S = 2. Why did two equal peaks turn into a “山”-like histogram?\n"
   ]
  },
  {
   "cell_type": "markdown",
   "id": "c4a80669-5630-4cee-998f-fc88b142053a",
   "metadata": {},
   "source": [
    "As we increase the number of S, i.e. when we increased from 1 to 2, it added another value to solving for the mean, so the mean could now be between the two binomial outcomes, and it will continue to have more possible values between -1 and 1, and as the chances for the tuples to have all -1 or 1 decreases and values for half of -1 and 1 increases (i.e. mean is 0), the distribution looks more normal. "
   ]
  },
  {
   "cell_type": "markdown",
   "id": "2674e217-fe4c-499c-a899-599487113b2d",
   "metadata": {},
   "source": [
    "### 1.2: Pareto-distributed Random Numbers\n",
    "\n",
    "(Intro explanation: refer to pdf file of questions)\n",
    "#### 1\n",
    "\n",
    "Create a vector of R pareto(5) random numbers. Make a histogram of those.\n",
    "Comment the shape of the histogram.  \n",
    "\n",
    "Note: We choose the parameter α = 5 as Pareto gets nasty as α gets too small (α ⩽ 2).\n",
    "We just want to steer away from those troubles.  \n",
    "\n",
    "Hint: use np.random.pareto(5, size) to create such numbers."
   ]
  },
  {
   "cell_type": "code",
   "execution_count": 427,
   "id": "a89a3ae2-cb88-4e64-bd03-5d8f06266b3e",
   "metadata": {},
   "outputs": [
    {
     "data": {
      "image/png": "[encoded data removed]",
      "text/plain": [
       "<Figure size 432x288 with 1 Axes>"
      ]
     },
     "metadata": {
      "needs_background": "light"
     },
     "output_type": "display_data"
    }
   ],
   "source": [
    "pareto_5 = []\n",
    "\n",
    "#get R vector of pareto random values for 1 s\n",
    "for i in range(0,num_trials):\n",
    "    pareto_5.append(np.random.pareto(5))\n",
    "    \n",
    "#plot results\n",
    "plt.hist(pareto_5)\n",
    "plt.show()"
   ]
  },
  {
   "cell_type": "markdown",
   "id": "6320d2b8-686f-4448-b5e3-a1a41bf93f0c",
   "metadata": {},
   "source": [
    "The distribution is extremely right-skewed, a seeminly exponential distribution"
   ]
  },
  {
   "cell_type": "markdown",
   "id": "2ba1d1bb-f2d1-4724-b74c-f7399a7afa91",
   "metadata": {},
   "source": [
    "#### 2\n",
    "\n",
    "Compute and report mean and variance of the sample you created (just use\n",
    "np.mean and np.var). Compare these numbers with the theoretical values computed\n",
    "from (2) and (3).\n",
    "\n",
    "Hint: these should be similar."
   ]
  },
  {
   "cell_type": "code",
   "execution_count": 428,
   "id": "d8533c16-f28e-499c-83ff-a7b5fa84fb10",
   "metadata": {},
   "outputs": [
    {
     "name": "stdout",
     "output_type": "stream",
     "text": [
      "Sample mean: 0.24677622484488773\n",
      "Sample variance: 0.11814896234220176\n",
      "Expected value: 0.25\n",
      "Variance of RV: 0.10416666666666667\n"
     ]
    }
   ],
   "source": [
    "#print sample results\n",
    "print(\"Sample mean: \" + str(np.mean(pareto_5)))\n",
    "print(\"Sample variance: \" + str(np.var(pareto_5)))\n",
    "\n",
    "#make function to get theoretical mean and var: for efficiency\n",
    "def getEVar(shape, s):\n",
    "    stats = []\n",
    "    stats.append(1/(shape-1))\n",
    "    stats.append((shape / (((shape-1)**2)*(shape-2)))/s)\n",
    "    return(stats)\n",
    "    \n",
    "#compute theoretical mean and var\n",
    "stats_5 = getEVar(5, 1)\n",
    "\n",
    "#print theoretical results\n",
    "print(\"Expected value: \" + str(stats_5[0])) #Ex will always be the same\n",
    "print(\"Variance of RV: \" + str(stats_5[1])) "
   ]
  },
  {
   "cell_type": "markdown",
   "id": "47891728-a13b-4b61-986b-04bf949698cb",
   "metadata": {},
   "source": [
    "Can confirm that they are similar like hinted in directions"
   ]
  },
  {
   "cell_type": "markdown",
   "id": "7d87323d-cf25-41b8-b9e5-a03dc3e17032",
   "metadata": {},
   "source": [
    "#### 3\n",
    "\n",
    "Now create R pairs of random Paretos. For each pair, compute its mean. You\n",
    "should have R means. Make the histogram. How does this look like?\n"
   ]
  },
  {
   "cell_type": "code",
   "execution_count": 429,
   "id": "6bfa0e7e-d5ac-4f5c-9773-d82ad69f5f15",
   "metadata": {},
   "outputs": [
    {
     "data": {
      "image/png": "[encoded data removed]",
      "text/plain": [
       "<Figure size 432x288 with 1 Axes>"
      ]
     },
     "metadata": {
      "needs_background": "light"
     },
     "output_type": "display_data"
    }
   ],
   "source": [
    "#make function to get the R trials of size s random drawings of pareto with alpha 5 (will default to that in each section)\n",
    "def getMeanPareto(alpha, size):\n",
    "    pareto_list = []\n",
    "    pareto_mean = []\n",
    "    for i in range(0,num_trials):\n",
    "        pareto_list.append(np.random.pareto(alpha, size))\n",
    "        pareto_mean.append(np.mean(pareto_list[i]))\n",
    "    return(pareto_mean)\n",
    "\n",
    "#get R vector for pair s\n",
    "pareto_pair = getMeanPareto(5, 2)\n",
    "\n",
    "#plot results\n",
    "plt.hist(pareto_pair)\n",
    "plt.show()\n"
   ]
  },
  {
   "cell_type": "markdown",
   "id": "91d99ad2-8dc4-48ae-9dfe-d1cbf854ae8f",
   "metadata": {},
   "source": [
    "The histogram looks less skewed to the right as the last ploted one in part 1, but not by much"
   ]
  },
  {
   "cell_type": "markdown",
   "id": "29279e86-e0e6-4745-b286-3c257861e0ae",
   "metadata": {},
   "source": [
    "#### 4\n",
    "\n",
    "Compute and report mean of the pair means, and variance of the means."
   ]
  },
  {
   "cell_type": "code",
   "execution_count": 430,
   "id": "19d705e8-fdc5-4bff-954f-c8a83ddc7a28",
   "metadata": {},
   "outputs": [
    {
     "name": "stdout",
     "output_type": "stream",
     "text": [
      "Sample mean: 0.25679251056221564\n",
      "Sample variance: 0.04828081168553787\n"
     ]
    }
   ],
   "source": [
    "#print sample results\n",
    "print(\"Sample mean: \" + str(np.mean(pareto_pair)))\n",
    "print(\"Sample variance: \" + str(np.var(pareto_pair)))"
   ]
  },
  {
   "cell_type": "markdown",
   "id": "8edc1035-52d5-4cf9-b676-36c4ac9e9047",
   "metadata": {},
   "source": [
    "#### 5\n",
    "Compute theoretical mean and variance of pair means using (2), (3), and CLT.\n",
    "Remember, the variance now should be just 1/2 of what (3) suggests as size of the pairs\n",
    "S = 2. Compare these numbers with the sample versions.\n",
    "\n",
    "Hint: your experimental results should be similar to the theoretical ones."
   ]
  },
  {
   "cell_type": "code",
   "execution_count": 431,
   "id": "e0c0aa14-fd2a-44e7-82b9-3dbe2c0cd446",
   "metadata": {},
   "outputs": [
    {
     "name": "stdout",
     "output_type": "stream",
     "text": [
      "Expected value: 0.25\n",
      "Variance of RV: 0.052083333333333336\n"
     ]
    }
   ],
   "source": [
    "#compute theoretical mean and var\n",
    "stats_pair = getEVar(5, 2)\n",
    "\n",
    "#print theoretical results\n",
    "print(\"Expected value: \" + str(stats_pair[0]))\n",
    "print(\"Variance of RV: \" + str(stats_pair[1]))\n"
   ]
  },
  {
   "cell_type": "markdown",
   "id": "1ee7a603-9e36-4849-a622-c5b9602526de",
   "metadata": {},
   "source": [
    "Confirms that they are similar, and are decreasing in difference"
   ]
  },
  {
   "cell_type": "markdown",
   "id": "fc5652df-3b53-48ba-9300-ebe3b6d8cf60",
   "metadata": {},
   "source": [
    "#### 6\n",
    "\n",
    " Now repeat this with 5-tuples of random numbers. Do you spot any noticeable\n",
    "differences in the histogram?\n"
   ]
  },
  {
   "cell_type": "code",
   "execution_count": 432,
   "id": "734fc422-15a1-4ab1-87d6-005befd9845f",
   "metadata": {},
   "outputs": [
    {
     "data": {
      "image/png": "[encoded data removed]",
      "text/plain": [
       "<Figure size 432x288 with 1 Axes>"
      ]
     },
     "metadata": {
      "needs_background": "light"
     },
     "output_type": "display_data"
    },
    {
     "name": "stdout",
     "output_type": "stream",
     "text": [
      "Sample mean: 0.24769397874695903\n",
      "Sample variance: 0.02066867582606421\n",
      "Expected value: 0.25\n",
      "Variance of RV: 0.020833333333333336\n"
     ]
    }
   ],
   "source": [
    "#get R vector for five s\n",
    "pareto_five = getMeanPareto(5, 5)\n",
    "\n",
    "#plot results\n",
    "plt.hist(pareto_five)\n",
    "plt.show()\n",
    "\n",
    "#print sample results\n",
    "print(\"Sample mean: \" + str(np.mean(pareto_five)))\n",
    "print(\"Sample variance: \" + str(np.var(pareto_five)))\n",
    "\n",
    "#compute theoretical mean and var\n",
    "stats_five = getEVar(5, 5)\n",
    "\n",
    "#print theoretical results\n",
    "print(\"Expected value: \" + str(stats_five[0]))\n",
    "print(\"Variance of RV: \" + str(stats_five[1]))\n"
   ]
  },
  {
   "cell_type": "markdown",
   "id": "6e125e9c-0bb1-4994-a56a-a914d3dd08f4",
   "metadata": {},
   "source": [
    "The histogram is significantly less skewed as the previous two, as the highest node is not at the very minimum bin."
   ]
  },
  {
   "cell_type": "markdown",
   "id": "35604462-ee5e-41a5-81fb-ce96b77983d8",
   "metadata": {},
   "source": [
    "#### 7\n",
    "Repeat with 25-tuples...\n"
   ]
  },
  {
   "cell_type": "code",
   "execution_count": 433,
   "id": "2947bd90-0aae-4c90-8a73-ef1d47f6b47a",
   "metadata": {},
   "outputs": [
    {
     "data": {
      "image/png": "[encoded data removed]",
      "text/plain": [
       "<Figure size 432x288 with 1 Axes>"
      ]
     },
     "metadata": {
      "needs_background": "light"
     },
     "output_type": "display_data"
    },
    {
     "name": "stdout",
     "output_type": "stream",
     "text": [
      "Sample mean: 0.2499004109590305\n",
      "Sample variance: 0.0040710310132804454\n",
      "Expected value: 0.25\n",
      "Variance of RV: 0.004166666666666667\n"
     ]
    }
   ],
   "source": [
    "#get R vector for 25 s\n",
    "pareto_twentyfive = getMeanPareto(5, 25)\n",
    "\n",
    "#plot results\n",
    "plt.hist(pareto_twentyfive)\n",
    "plt.show()\n",
    "\n",
    "#print sample results\n",
    "print(\"Sample mean: \" + str(np.mean(pareto_twentyfive)))\n",
    "print(\"Sample variance: \" + str(np.var(pareto_twentyfive)))\n",
    "\n",
    "#compute theoretical mean and var\n",
    "stats_twentyfive = getEVar(5, 25)\n",
    "\n",
    "#print theoretical results\n",
    "print(\"Expected value: \" + str(stats_twentyfive[0]))\n",
    "print(\"Variance of RV: \" + str(stats_twentyfive[1]))\n"
   ]
  },
  {
   "cell_type": "markdown",
   "id": "10c7cf81-0d8b-4017-b7f3-3691f3689513",
   "metadata": {},
   "source": [
    "Again, the graph is getting less skewed (although still slightly right-skewed), as the highest node is nearing the median of the min and max values."
   ]
  },
  {
   "cell_type": "markdown",
   "id": "ab1b3449-86ec-4e73-86df-2ed9ee0ebd5c",
   "metadata": {},
   "source": [
    "#### 8\n",
    "... and with 1000-tuples"
   ]
  },
  {
   "cell_type": "code",
   "execution_count": 434,
   "id": "c285e21b-dd77-4cf8-8438-3e218573a565",
   "metadata": {},
   "outputs": [
    {
     "data": {
      "image/png": "[encoded data removed]",
      "text/plain": [
       "<Figure size 432x288 with 1 Axes>"
      ]
     },
     "metadata": {
      "needs_background": "light"
     },
     "output_type": "display_data"
    },
    {
     "name": "stdout",
     "output_type": "stream",
     "text": [
      "Sample mean: 0.25017022232897423\n",
      "Sample variance: 0.00010582753406228337\n",
      "Expected value: 0.25\n",
      "Variance of RV: 0.00010416666666666667\n"
     ]
    }
   ],
   "source": [
    "#get R vector for thousand s\n",
    "pareto_thousand = getMeanPareto(5, 1000)\n",
    "\n",
    "#plot results\n",
    "plt.hist(pareto_thousand)\n",
    "plt.show()\n",
    "\n",
    "#print sample results\n",
    "print(\"Sample mean: \" + str(np.mean(pareto_thousand)))\n",
    "print(\"Sample variance: \" + str(np.var(pareto_thousand)))\n",
    "\n",
    "#compute theoretical mean and var\n",
    "stats_thousand = getEVar(5, 1000)\n",
    "\n",
    "#print theoretical results\n",
    "print(\"Expected value: \" + str(stats_thousand[0]))\n",
    "print(\"Variance of RV: \" + str(stats_thousand[1]))"
   ]
  },
  {
   "cell_type": "markdown",
   "id": "cb3f6760-0c62-401c-aec1-760ea9fc22f3",
   "metadata": {},
   "source": [
    "The histogram is nearing a normal distribution: with a standard deviation of almost 0 is another hint at this transformation in distribution numerically. "
   ]
  },
  {
   "cell_type": "markdown",
   "id": "ac49e367-a8b6-40e4-aa67-c39748c262ae",
   "metadata": {},
   "source": [
    "#### 9\n",
    "Comment on the tuple size, and the shape of the histogram.  \n",
    "\n",
    "Hint: consult Openintro Statistics 5.1.3 (p 172-178).\n"
   ]
  },
  {
   "cell_type": "markdown",
   "id": "497cb2dc-f9f6-43de-a6aa-727c678f7cdc",
   "metadata": {},
   "source": [
    "Ans: As the textbooks defines the CLM: \n",
    "\n",
    "\"When observations are independent and the sample size is sufficiently large, the sample proportion ˆp will tend to follow a normal distribution with mean = p and standard error sqrt(p(1-p)/n)\"  \n",
    "\n",
    "where the formulas prove that the sd of 0 stated in section 8 above, because as n goes to infinity, sd should near 0"
   ]
  },
  {
   "cell_type": "markdown",
   "id": "d0bf7570-a934-46ee-9a89-57a771e44dc3",
   "metadata": {},
   "source": [
    "### Global temperature over time\n",
    "\n",
    "In this question you will to work with satellite-based global temperature records. There\n",
    "is quite a bit of debate about how satellite records relate to the actual near-ground temperature, here we simply say that we talk about “lower troposphere temperature”, whatever\n",
    "it means. You can download the original dataset from University of Alabama, Huntsville\n",
    "http://vortex.nsstc.uah.edu/data/msu/v6.0/tlt/uahncdc_lt_6.0.txt, on the version\n",
    "on canvas we have done a little bit of cleaning.\n",
    "\n",
    "\n",
    "Global warming is thought to bring both higher temperatures but also more extreme\n",
    "weather. Can we see this in the data? Your task is to answer two questions:  \n",
    "\n",
    "a) Do we observe a trend in the global temperature over time in this data?  \n",
    "b) Do we observe a trend in the temporal variability of the global temperature in this data?\n",
    "\n",
    "We base our conclusions on plots and visual inspection only, we do not compute any time\n",
    "trends and confidence values.\n",
    "\n",
    "#### 1"
   ]
  },
  {
   "cell_type": "markdown",
   "id": "fdb3ae0f-cd12-44b4-a767-61451649d14f",
   "metadata": {},
   "source": [
    "The values (esp the region and corresponding temp value) are of ratio type, as it is the deviation from 1991-2020 averages, as it is not the actual temperature (which would be interval), but is the deviation from the average so it has a clearly defined 0 (i.e, the temperature is the exactly the same as the average)"
   ]
  },
  {
   "cell_type": "markdown",
   "id": "6552591d-ec67-40ec-874d-986626777467",
   "metadata": {},
   "source": [
    "#### 2\n",
    "\n",
    "Load the data. Perform basic sanity checks. Note: the data is whitespace separated."
   ]
  },
  {
   "cell_type": "code",
   "execution_count": 435,
   "id": "4a2ae3e5-2a73-4ef1-af2b-a3805c633aa3",
   "metadata": {},
   "outputs": [
    {
     "data": {
      "text/html": [
       "<div>\n",
       "<style scoped>\n",
       "    .dataframe tbody tr th:only-of-type {\n",
       "        vertical-align: middle;\n",
       "    }\n",
       "\n",
       "    .dataframe tbody tr th {\n",
       "        vertical-align: top;\n",
       "    }\n",
       "\n",
       "    .dataframe thead th {\n",
       "        text-align: right;\n",
       "    }\n",
       "</style>\n",
       "<table border=\"1\" class=\"dataframe\">\n",
       "  <thead>\n",
       "    <tr style=\"text-align: right;\">\n",
       "      <th></th>\n",
       "      <th>Year</th>\n",
       "      <th>Mo</th>\n",
       "      <th>Globe</th>\n",
       "      <th>Land</th>\n",
       "      <th>Ocean</th>\n",
       "      <th>NH</th>\n",
       "      <th>Land.1</th>\n",
       "      <th>Ocean.1</th>\n",
       "      <th>SH</th>\n",
       "      <th>Land.2</th>\n",
       "      <th>...</th>\n",
       "      <th>Ocean.5</th>\n",
       "      <th>NoPol</th>\n",
       "      <th>Land.6</th>\n",
       "      <th>Ocean.6</th>\n",
       "      <th>SoPol</th>\n",
       "      <th>Land.7</th>\n",
       "      <th>Ocean.7</th>\n",
       "      <th>USA48</th>\n",
       "      <th>USA49</th>\n",
       "      <th>AUST</th>\n",
       "    </tr>\n",
       "  </thead>\n",
       "  <tbody>\n",
       "    <tr>\n",
       "      <th>0</th>\n",
       "      <td>1978</td>\n",
       "      <td>12</td>\n",
       "      <td>-0.48</td>\n",
       "      <td>-0.51</td>\n",
       "      <td>-0.47</td>\n",
       "      <td>-0.44</td>\n",
       "      <td>-0.46</td>\n",
       "      <td>-0.42</td>\n",
       "      <td>-0.52</td>\n",
       "      <td>-0.62</td>\n",
       "      <td>...</td>\n",
       "      <td>-0.45</td>\n",
       "      <td>-0.39</td>\n",
       "      <td>-0.68</td>\n",
       "      <td>-0.06</td>\n",
       "      <td>-0.45</td>\n",
       "      <td>-0.38</td>\n",
       "      <td>-0.49</td>\n",
       "      <td>-1.29</td>\n",
       "      <td>-1.15</td>\n",
       "      <td>-1.29</td>\n",
       "    </tr>\n",
       "    <tr>\n",
       "      <th>1</th>\n",
       "      <td>1979</td>\n",
       "      <td>1</td>\n",
       "      <td>-0.47</td>\n",
       "      <td>-0.64</td>\n",
       "      <td>-0.41</td>\n",
       "      <td>-0.64</td>\n",
       "      <td>-0.86</td>\n",
       "      <td>-0.50</td>\n",
       "      <td>-0.31</td>\n",
       "      <td>-0.13</td>\n",
       "      <td>...</td>\n",
       "      <td>-0.29</td>\n",
       "      <td>-0.46</td>\n",
       "      <td>-0.95</td>\n",
       "      <td>0.10</td>\n",
       "      <td>-0.15</td>\n",
       "      <td>-0.15</td>\n",
       "      <td>-0.16</td>\n",
       "      <td>-3.22</td>\n",
       "      <td>-2.42</td>\n",
       "      <td>0.92</td>\n",
       "    </tr>\n",
       "    <tr>\n",
       "      <th>2</th>\n",
       "      <td>1979</td>\n",
       "      <td>2</td>\n",
       "      <td>-0.43</td>\n",
       "      <td>-0.56</td>\n",
       "      <td>-0.39</td>\n",
       "      <td>-0.47</td>\n",
       "      <td>-0.57</td>\n",
       "      <td>-0.41</td>\n",
       "      <td>-0.39</td>\n",
       "      <td>-0.53</td>\n",
       "      <td>...</td>\n",
       "      <td>-0.36</td>\n",
       "      <td>-2.00</td>\n",
       "      <td>-2.30</td>\n",
       "      <td>-1.66</td>\n",
       "      <td>-0.80</td>\n",
       "      <td>-1.25</td>\n",
       "      <td>-0.58</td>\n",
       "      <td>-1.76</td>\n",
       "      <td>-1.84</td>\n",
       "      <td>-0.30</td>\n",
       "    </tr>\n",
       "    <tr>\n",
       "      <th>3</th>\n",
       "      <td>1979</td>\n",
       "      <td>3</td>\n",
       "      <td>-0.38</td>\n",
       "      <td>-0.51</td>\n",
       "      <td>-0.33</td>\n",
       "      <td>-0.46</td>\n",
       "      <td>-0.51</td>\n",
       "      <td>-0.44</td>\n",
       "      <td>-0.30</td>\n",
       "      <td>-0.53</td>\n",
       "      <td>...</td>\n",
       "      <td>-0.21</td>\n",
       "      <td>-0.56</td>\n",
       "      <td>-0.47</td>\n",
       "      <td>-0.65</td>\n",
       "      <td>-0.52</td>\n",
       "      <td>-1.25</td>\n",
       "      <td>-0.18</td>\n",
       "      <td>-0.70</td>\n",
       "      <td>-0.39</td>\n",
       "      <td>0.23</td>\n",
       "    </tr>\n",
       "    <tr>\n",
       "      <th>4</th>\n",
       "      <td>1979</td>\n",
       "      <td>4</td>\n",
       "      <td>-0.40</td>\n",
       "      <td>-0.57</td>\n",
       "      <td>-0.34</td>\n",
       "      <td>-0.47</td>\n",
       "      <td>-0.62</td>\n",
       "      <td>-0.37</td>\n",
       "      <td>-0.34</td>\n",
       "      <td>-0.46</td>\n",
       "      <td>...</td>\n",
       "      <td>-0.31</td>\n",
       "      <td>-0.84</td>\n",
       "      <td>-0.81</td>\n",
       "      <td>-0.87</td>\n",
       "      <td>-0.26</td>\n",
       "      <td>0.26</td>\n",
       "      <td>-0.51</td>\n",
       "      <td>-0.72</td>\n",
       "      <td>-0.46</td>\n",
       "      <td>-1.12</td>\n",
       "    </tr>\n",
       "  </tbody>\n",
       "</table>\n",
       "<p>5 rows × 29 columns</p>\n",
       "</div>"
      ],
      "text/plain": [
       "   Year  Mo  Globe  Land  Ocean    NH  Land.1  Ocean.1    SH  Land.2  ...  \\\n",
       "0  1978  12  -0.48 -0.51  -0.47 -0.44   -0.46    -0.42 -0.52   -0.62  ...   \n",
       "1  1979   1  -0.47 -0.64  -0.41 -0.64   -0.86    -0.50 -0.31   -0.13  ...   \n",
       "2  1979   2  -0.43 -0.56  -0.39 -0.47   -0.57    -0.41 -0.39   -0.53  ...   \n",
       "3  1979   3  -0.38 -0.51  -0.33 -0.46   -0.51    -0.44 -0.30   -0.53  ...   \n",
       "4  1979   4  -0.40 -0.57  -0.34 -0.47   -0.62    -0.37 -0.34   -0.46  ...   \n",
       "\n",
       "   Ocean.5  NoPol  Land.6  Ocean.6  SoPol  Land.7  Ocean.7  USA48  USA49  AUST  \n",
       "0    -0.45  -0.39   -0.68    -0.06  -0.45   -0.38    -0.49  -1.29  -1.15 -1.29  \n",
       "1    -0.29  -0.46   -0.95     0.10  -0.15   -0.15    -0.16  -3.22  -2.42  0.92  \n",
       "2    -0.36  -2.00   -2.30    -1.66  -0.80   -1.25    -0.58  -1.76  -1.84 -0.30  \n",
       "3    -0.21  -0.56   -0.47    -0.65  -0.52   -1.25    -0.18  -0.70  -0.39  0.23  \n",
       "4    -0.31  -0.84   -0.81    -0.87  -0.26    0.26    -0.51  -0.72  -0.46 -1.12  \n",
       "\n",
       "[5 rows x 29 columns]"
      ]
     },
     "execution_count": 435,
     "metadata": {},
     "output_type": "execute_result"
    }
   ],
   "source": [
    "df_temp = pd.read_csv('/home/jovyan/lost+found/INFO_370/UAH-lower-troposphere_wide.csv.bz2',  delim_whitespace=True) #for any number of spaces\n",
    "df_temp.head() #sanity check to see if \"sep =\" worked correctly"
   ]
  },
  {
   "cell_type": "markdown",
   "id": "d4903164-b491-4582-b81a-d94796cc1a2e",
   "metadata": {},
   "source": [
    "#### 3\n",
    "\n",
    " Make a simple plot to address the first question–the temperature trend. Which\n",
    "variables do you want to plot? Comment the result: what, if anything, does the figure\n",
    "suggest?\n",
    "\n",
    "Hint: you may need a variable for time along the lines time = year + month/12\n"
   ]
  },
  {
   "cell_type": "code",
   "execution_count": 436,
   "id": "7aea7743-cb79-4bc6-837b-f06a53b73c19",
   "metadata": {},
   "outputs": [
    {
     "data": {
      "image/png": "[encoded data removed]",
      "text/plain": [
       "<Figure size 432x288 with 1 Axes>"
      ]
     },
     "metadata": {
      "needs_background": "light"
     },
     "output_type": "display_data"
    }
   ],
   "source": [
    "x = []\n",
    "#convert year and month columns to year + month/12 for x-axis\n",
    "for i in range (0, len(df_temp.Year)):\n",
    "    x.append(str(df_temp.Year[i]+df_temp.Mo[i]/12))\n",
    "    \n",
    "#plot results\n",
    "plt.scatter(x, df_temp.Globe)\n",
    "plt.show()\n"
   ]
  },
  {
   "cell_type": "markdown",
   "id": "593ab354-162a-4d5e-be04-6d419ac432a7",
   "metadata": {},
   "source": [
    "As can be seen in the plot, although there are some inconsistencies that makes the points not very closely correlated linearly, the general trend is that as time increases, the deviation from the averages increases, meaning the temperature went from generally being under the average to being typically higher than the average."
   ]
  },
  {
   "cell_type": "markdown",
   "id": "d16a7d90-8e8f-4270-a4bb-9cb999a5af89",
   "metadata": {},
   "source": [
    "#### 4"
   ]
  },
  {
   "cell_type": "code",
   "execution_count": 437,
   "id": "4f35917a-424a-4344-bb3e-b2b692a52b81",
   "metadata": {},
   "outputs": [
    {
     "data": {
      "image/png": "[encoded data removed]",
      "text/plain": [
       "<Figure size 432x288 with 1 Axes>"
      ]
     },
     "metadata": {
      "needs_background": "light"
     },
     "output_type": "display_data"
    }
   ],
   "source": [
    "#get var for each year's global temp\n",
    "var_global_year = df_temp[df_temp.Globe.isna() == False].groupby(\"Year\").Globe.var()\n",
    "#get unique years to match y length\n",
    "x = df_temp.Year.unique()\n",
    "\n",
    "#print results\n",
    "plt.scatter(x, var_global_year)\n",
    "plt.show() #does not seem to have a clear pattern"
   ]
  },
  {
   "cell_type": "markdown",
   "id": "69faffb3-7f59-4e1d-a575-4e6a5d7ca341",
   "metadata": {},
   "source": [
    "#### 5"
   ]
  },
  {
   "cell_type": "code",
   "execution_count": 438,
   "id": "51466573-fe53-42cd-8ae0-d69709a84061",
   "metadata": {},
   "outputs": [
    {
     "name": "stdout",
     "output_type": "stream",
     "text": [
      "Mean Temp vs Year\n"
     ]
    },
    {
     "data": {
      "image/png": "[encoded data removed]",
      "text/plain": [
       "<Figure size 432x288 with 1 Axes>"
      ]
     },
     "metadata": {
      "needs_background": "light"
     },
     "output_type": "display_data"
    },
    {
     "name": "stdout",
     "output_type": "stream",
     "text": [
      "Median Temp vs Year\n"
     ]
    },
    {
     "data": {
      "image/png": "[encoded data removed]",
      "text/plain": [
       "<Figure size 432x288 with 1 Axes>"
      ]
     },
     "metadata": {
      "needs_background": "light"
     },
     "output_type": "display_data"
    }
   ],
   "source": [
    "#get mean for each year's global temp\n",
    "avg_global_year = df_temp[df_temp.Globe.isna() == False].groupby(\"Year\").Globe.mean()\n",
    "\n",
    "#print a title/differentiate between plots\n",
    "print(\"Mean Temp vs Year\")\n",
    "\n",
    "#plot results\n",
    "plt.scatter(x, avg_global_year)\n",
    "plt.show()\n",
    "\n",
    "#print a title/differentiate between plots\n",
    "print(\"Median Temp vs Year\")\n",
    "\n",
    "#get median for each year's global temp\n",
    "med_global_year = df_temp[df_temp.Globe.isna() == False].groupby(\"Year\").Globe.median()\n",
    "\n",
    "#plot results\n",
    "plt.scatter(x, med_global_year)\n",
    "plt.show()"
   ]
  },
  {
   "cell_type": "markdown",
   "id": "02d713c4-8dbc-4ecd-8c2d-e46809567baf",
   "metadata": {},
   "source": [
    "In reference to the Lecture notes, while mean is the most common and intuitive, it is sometimes too sensitive to non-typical values and vice versa for median. Mean would be an issue if it made the relationship between x and y axis weaken. However, as seen in the plots, that is not the case, as they are both very similar (if not the median graph is has a smaller correlation)."
   ]
  },
  {
   "cell_type": "markdown",
   "id": "7a646300-7477-42e1-a925-154f6b4a39d7",
   "metadata": {},
   "source": [
    "#### 6"
   ]
  },
  {
   "cell_type": "code",
   "execution_count": 439,
   "id": "7c2f9757-9e60-4d1e-904b-461a434fee68",
   "metadata": {},
   "outputs": [
    {
     "name": "stdout",
     "output_type": "stream",
     "text": [
      "Mean Temp vs Decade\n"
     ]
    },
    {
     "data": {
      "image/png": "[encoded data removed]",
      "text/plain": [
       "<Figure size 432x288 with 1 Axes>"
      ]
     },
     "metadata": {
      "needs_background": "light"
     },
     "output_type": "display_data"
    },
    {
     "name": "stdout",
     "output_type": "stream",
     "text": [
      "Median Temp vs Decade\n"
     ]
    },
    {
     "data": {
      "image/png": "[encoded data removed]",
      "text/plain": [
       "<Figure size 432x288 with 1 Axes>"
      ]
     },
     "metadata": {
      "needs_background": "light"
     },
     "output_type": "display_data"
    }
   ],
   "source": [
    "#make decade column and add to original df\n",
    "decade = df_temp.Year // 10 * 10\n",
    "df_temp['Decade'] = decade\n",
    "\n",
    "#get mean for each decade's global temp\n",
    "avg_global_dec = df_temp[df_temp.Globe.isna() == False].groupby(\"Decade\").Globe.mean()\n",
    "\n",
    "#print a title/differentiate between plots\n",
    "print(\"Mean Temp vs Decade\")\n",
    "#make x list to match y length\n",
    "x_dec = decade.unique()\n",
    "\n",
    "#print results\n",
    "plt.scatter(x_dec, avg_global_dec)\n",
    "plt.show()\n",
    "\n",
    "#print a title/differentiate between plots\n",
    "print(\"Median Temp vs Decade\")\n",
    "\n",
    "#get median for each decade's global temp\n",
    "med_global_dec = df_temp[df_temp.Globe.isna() == False].groupby(\"Decade\").Globe.median()\n",
    "\n",
    "#print results\n",
    "plt.scatter(x_dec, med_global_dec)\n",
    "plt.show()"
   ]
  },
  {
   "cell_type": "markdown",
   "id": "ffe6dc5e-2187-477e-92d3-9485ff48fbfe",
   "metadata": {},
   "source": [
    "#### 7"
   ]
  },
  {
   "cell_type": "code",
   "execution_count": 440,
   "id": "98cc684b-e9e7-4561-a8cc-a8a2010b7910",
   "metadata": {},
   "outputs": [
    {
     "name": "stdout",
     "output_type": "stream",
     "text": [
      "Number of 1970 observations: 13\n",
      "Number of 2020 observations: 18\n",
      "\n",
      "How many observations each decade should have: 120\n"
     ]
    }
   ],
   "source": [
    "#get number of different obs for years in 1970s\n",
    "count_1970 = df_temp.Decade[df_temp.Decade == 1970].values\n",
    "\n",
    "#print count\n",
    "print(\"Number of 1970 observations: \" + str(len(count_1970)))\n",
    "\n",
    "#get number of different obs for years in 2020s\n",
    "count_2020 = df_temp.Decade[df_temp.Decade == 2020].values\n",
    "\n",
    "#print count\n",
    "print(\"Number of 2020 observations: \" + str(len(count_2020)))\n",
    "\n",
    "#print what complete count would be for a decade\n",
    "print(\"\\nHow many observations each decade should have: \" + str(12*10))"
   ]
  },
  {
   "cell_type": "markdown",
   "id": "89b720eb-0892-4e52-9f04-19a1ad8afb20",
   "metadata": {},
   "source": [
    "As the data collection in this data frame started in later 1978 and the 2020 decade has just started, there are not enough observations in each decade. Therefore, any inferences made with or of those years would not have sufficient evidence."
   ]
  },
  {
   "cell_type": "markdown",
   "id": "b69e76df-f479-49ee-84b2-42206720c1ab",
   "metadata": {},
   "source": [
    "#### 8"
   ]
  },
  {
   "cell_type": "markdown",
   "id": "e210a2b8-f983-4bd8-9658-fd70816b733b",
   "metadata": {},
   "source": [
    "a) Do we observe a trend in the global temperature over time in this data?  \n",
    "\n",
    "Yes: in all the plots (regardless of temporal variability), there is a general or clear trend that, as time increases, the deviation from average global temperature is becoming more positive. In other words, as time increases, global temperature is getting hotter. \n",
    "  \n",
    "b) Do we observe a trend in the temporal variability of the global temperature in this data?  \n",
    "\n",
    "Yes: as the time is changed in variation (from month to year to decade), the relationship between time and global temperature becomes stronger in a direct linear relationship (i.e. correlation is higher). Each plot confirms the answer in question a) with more confidence of the positive relationship. The decade plot gives the most clear relationship (although I would consider removing 1970 and 2020 from the plot as they do not have as complete of data as the other decades)."
   ]
  },
  {
   "cell_type": "markdown",
   "id": "11268a4e-e2a7-4890-9124-95d36dadc493",
   "metadata": {},
   "source": [
    "#### Duration: \n",
    "\n",
    "~ 6 hours"
   ]
  }
 ],
 "metadata": {
  "kernelspec": {
   "display_name": "Python 3",
   "language": "python",
   "name": "python3"
  },
  "language_info": {
   "codemirror_mode": {
    "name": "ipython",
    "version": 3
   },
   "file_extension": ".py",
   "mimetype": "text/x-python",
   "name": "python",
   "nbconvert_exporter": "python",
   "pygments_lexer": "ipython3",
   "version": "3.8.8"
  }
 },
 "nbformat": 4,
 "nbformat_minor": 5
}
