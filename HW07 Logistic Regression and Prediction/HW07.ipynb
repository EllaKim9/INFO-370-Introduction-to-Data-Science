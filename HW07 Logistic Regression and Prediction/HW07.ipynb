{
 "cells": [
  {
   "cell_type": "markdown",
   "id": "f61f8f71-07bf-46fa-b887-84f5608f4694",
   "metadata": {},
   "source": [
    "# Info 370 HW 07\n",
    "\n",
    "Name: Ella Kim   \n",
    "\n",
    "*Citations are hyperlinked*\n",
    "\n",
    "## Who will win the elections?\n",
    "#### 1"
   ]
  },
  {
   "cell_type": "code",
   "execution_count": 2,
   "id": "84f6d802-04ca-4e61-ad04-9e5ae6c0f602",
   "metadata": {},
   "outputs": [
    {
     "name": "stdout",
     "output_type": "stream",
     "text": [
      "Number of columns: 22\n",
      "Number of rows: 37390\n",
      "   FIPS  year    state state2   county     office       candidate       party  \\\n",
      "0  1001  2000  Alabama     AL  Autauga  President         Al Gore    democrat   \n",
      "1  1001  2000  Alabama     AL  Autauga  President  George W. Bush  republican   \n",
      "2  1001  2004  Alabama     AL  Autauga  President      John Kerry    democrat   \n",
      "3  1001  2004  Alabama     AL  Autauga  President  George W. Bush  republican   \n",
      "4  1001  2008  Alabama     AL  Autauga  President    Barack Obama    democrat   \n",
      "\n",
      "   candidatevotes  totalvotes  ...  LND010200D  EDU695209D  EDU600209D  \\\n",
      "0          4942.0       17208  ...      604.45        2285       31469   \n",
      "1         11993.0       17208  ...      604.45        2285       31469   \n",
      "2          4758.0       20081  ...      604.45        2285       31469   \n",
      "3         15196.0       20081  ...      604.45        2285       31469   \n",
      "4          6093.0       23641  ...      604.45        2285       31469   \n",
      "\n",
      "   POP010210D  POP220210D  POP250210D  POP320210D  POP400210D  PST110209D  \\\n",
      "0       54571       42855        9643         474        1310        7085   \n",
      "1       54571       42855        9643         474        1310        7085   \n",
      "2       54571       42855        9643         474        1310        7085   \n",
      "3       54571       42855        9643         474        1310        7085   \n",
      "4       54571       42855        9643         474        1310        7085   \n",
      "\n",
      "   region  \n",
      "0   south  \n",
      "1   south  \n",
      "2   south  \n",
      "3   south  \n",
      "4   south  \n",
      "\n",
      "[5 rows x 22 columns]\n"
     ]
    }
   ],
   "source": [
    "import numpy as np\n",
    "import pandas as pd\n",
    "import statsmodels.formula.api as smf\n",
    "import seaborn as sns\n",
    "import matplotlib.pyplot as plt\n",
    "\n",
    "#load in data\n",
    "df_elect = pd.read_csv('/home/jovyan/lost+found/INFO_370/us-elections_2000-2020.csv.bz2', sep=\"\\t\")\n",
    "\n",
    "#sanity checks\n",
    "# print # cols\n",
    "cols = df_elect.shape[1]\n",
    "print(\"Number of columns: \" + str(cols))\n",
    "# print # rows\n",
    "rows = df_elect.shape[0]\n",
    "print(\"Number of rows: \" + str(rows))\n",
    "print(df_elect.head(5)) #sanity check\n",
    "# make df of total count of nulls in each col & print results\n",
    "df_null = df_elect.isnull().sum() # income & population: 6762, candidatevotes: 4"
   ]
  },
  {
   "cell_type": "markdown",
   "id": "69852b4a-4b2e-4631-9903-5df18e36622c",
   "metadata": {},
   "source": [
    "#### 2"
   ]
  },
  {
   "cell_type": "code",
   "execution_count": 3,
   "id": "64fe82d9-7b61-4110-b7b1-075b3152aeb0",
   "metadata": {},
   "outputs": [
    {
     "name": "stdout",
     "output_type": "stream",
     "text": [
      "10        55243.0\n",
      "11        55243.0\n",
      "22       207601.0\n",
      "23       207601.0\n",
      "34        25806.0\n",
      "           ...   \n",
      "37365     20682.0\n",
      "37376      8165.0\n",
      "37377      8165.0\n",
      "37388      7220.0\n",
      "37389      7220.0\n",
      "Name: population, Length: 6222, dtype: float64\n"
     ]
    }
   ],
   "source": [
    "# fill NaN for columns that have existing values before it in the same county\n",
    "df_elect['income'] = df_elect.groupby(\"FIPS\").income.fillna(method = 'ffill')\n",
    "df_elect['population'] = df_elect.groupby(\"FIPS\").population.fillna(method = 'ffill')\n",
    "\n",
    "# there are still NaN values because some counties do not have any existing/previous values, sanity check\n",
    "df_elect.isna().sum()\n",
    "\n",
    "print(df_elect.population[df_elect.year == 2020])\n",
    "\n",
    "# therefore, professor said to eliminate rows that still have NaN for those\n",
    "df_elect.dropna(inplace=True) "
   ]
  },
  {
   "cell_type": "markdown",
   "id": "3c1b6d20-d23a-4d1c-b25e-6da8534c9bcb",
   "metadata": {},
   "source": [
    "#### 3\n",
    "[Citation for function setup](https://stackoverflow.com/questions/48819644/pandas-comparing-rows-within-groups)"
   ]
  },
  {
   "cell_type": "code",
   "execution_count": 4,
   "id": "7b8a842f-bd0b-48a9-ae72-bd6b6341af25",
   "metadata": {},
   "outputs": [],
   "source": [
    "# filter for only 2020 year\n",
    "df_2020 = df_elect[df_elect.year == 2020]\n",
    "total_obs = df_2020.shape[0]\n",
    "\n",
    "# define function that will return binary value for outcome for that county\n",
    "def getDem(county):\n",
    "    return 1 if (county.party[county.candidatevotes == county.candidatevotes.max()].values) == \"democrat\" else 0\n",
    "\n",
    "# apply the function to grouped df by county\n",
    "outcome = df_2020.groupby('FIPS', group_keys=False).apply(getDem).values\n",
    "\n",
    "# after doing some of the other problems, it was best to just keep democrat values of the county\n",
    "df_2020_dem = df_2020[df_2020.party == 'democrat']\n",
    "\n",
    "# make copy for warning message in next line & add to df as new column\n",
    "df_2020_dem = df_2020_dem.copy()\n",
    "df_2020_dem['outcome'] = outcome"
   ]
  },
  {
   "cell_type": "markdown",
   "id": "9ec95a82-5c33-45b1-8228-5e9c42837d7c",
   "metadata": {},
   "source": [
    "#### 4\n",
    "\n",
    "[Citation for .drop steps](https://thispointer.com/python-pandas-how-to-drop-rows-in-dataframe-by-conditions-on-column-values/)"
   ]
  },
  {
   "cell_type": "code",
   "execution_count": 5,
   "id": "ff720139-47db-4215-9fe3-69f2bbf7a9a8",
   "metadata": {},
   "outputs": [],
   "source": [
    "# define function to get the column computation\n",
    "def getProportion(num, denom, ispercent):\n",
    "    result = num / denom\n",
    "    if ispercent == True:\n",
    "        result = result * 100\n",
    "    else:\n",
    "        result = result / 1000\n",
    "    return result\n",
    "\n",
    "# after running this on all the differnt columns, there is 0s in land area that result in inf, so we remove \n",
    "# all of those before so that the same warnings do not show up\n",
    "indexOfLand = df_2020_dem[df_2020_dem['LND010200D'] == 0].index\n",
    "df_2020_dem.drop(indexOfLand, inplace=True)\n",
    "indexOfPop = df_2020_dem[df_2020_dem['population'] == 0].index\n",
    "df_2020_dem.drop(indexOfPop, inplace =True)\n",
    "# now can safely compute the different auxiliary variables\n",
    "df_2020_dem['popdensity'] = getProportion(df_2020_dem.population.values, df_2020_dem.LND010200D.values, False)\n",
    "df_2020_dem['popdensity'].tolist() # had inf, so made section before to catch 0s\n",
    "\n",
    "total_minority = df_2020_dem.POP250210D.values + df_2020_dem.POP320210D.values + df_2020_dem.POP400210D.values \n",
    "df_2020_dem['minorityperc'] = getProportion(total_minority, df_2020_dem.population.values, True)\n",
    "\n",
    "df_2020_dem['collegeperc'] = getProportion(df_2020_dem.EDU695209D.values, df_2020_dem.population.values, True)"
   ]
  },
  {
   "cell_type": "markdown",
   "id": "3a2d833a-e837-47f4-b43f-456ab2432f2e",
   "metadata": {},
   "source": [
    "#### 5"
   ]
  },
  {
   "cell_type": "code",
   "execution_count": 6,
   "id": "9da54758-a970-4f85-a382-35136ee26f71",
   "metadata": {},
   "outputs": [
    {
     "data": {
      "text/html": [
       "<table class=\"simpletable\">\n",
       "<caption>OLS Regression Results</caption>\n",
       "<tr>\n",
       "  <th>Dep. Variable:</th>         <td>outcome</td>     <th>  R-squared:         </th> <td>   0.447</td>\n",
       "</tr>\n",
       "<tr>\n",
       "  <th>Model:</th>                   <td>OLS</td>       <th>  Adj. R-squared:    </th> <td>   0.446</td>\n",
       "</tr>\n",
       "<tr>\n",
       "  <th>Method:</th>             <td>Least Squares</td>  <th>  F-statistic:       </th> <td>   352.0</td>\n",
       "</tr>\n",
       "<tr>\n",
       "  <th>Date:</th>             <td>Sun, 16 Jan 2022</td> <th>  Prob (F-statistic):</th>  <td>  0.00</td> \n",
       "</tr>\n",
       "<tr>\n",
       "  <th>Time:</th>                 <td>08:28:46</td>     <th>  Log-Likelihood:    </th> <td> -416.07</td>\n",
       "</tr>\n",
       "<tr>\n",
       "  <th>No. Observations:</th>      <td>  3058</td>      <th>  AIC:               </th> <td>   848.1</td>\n",
       "</tr>\n",
       "<tr>\n",
       "  <th>Df Residuals:</th>          <td>  3050</td>      <th>  BIC:               </th> <td>   896.3</td>\n",
       "</tr>\n",
       "<tr>\n",
       "  <th>Df Model:</th>              <td>     7</td>      <th>                     </th>     <td> </td>   \n",
       "</tr>\n",
       "<tr>\n",
       "  <th>Covariance Type:</th>      <td>nonrobust</td>    <th>                     </th>     <td> </td>   \n",
       "</tr>\n",
       "</table>\n",
       "<table class=\"simpletable\">\n",
       "<tr>\n",
       "             <td></td>               <th>coef</th>     <th>std err</th>      <th>t</th>      <th>P>|t|</th>  <th>[0.025</th>    <th>0.975]</th>  \n",
       "</tr>\n",
       "<tr>\n",
       "  <th>Intercept</th>              <td>   -0.2228</td> <td>    0.023</td> <td>   -9.785</td> <td> 0.000</td> <td>   -0.267</td> <td>   -0.178</td>\n",
       "</tr>\n",
       "<tr>\n",
       "  <th>C(region)[T.northeast]</th> <td>    0.1029</td> <td>    0.022</td> <td>    4.633</td> <td> 0.000</td> <td>    0.059</td> <td>    0.146</td>\n",
       "</tr>\n",
       "<tr>\n",
       "  <th>C(region)[T.south]</th>     <td>   -0.1263</td> <td>    0.013</td> <td>   -9.553</td> <td> 0.000</td> <td>   -0.152</td> <td>   -0.100</td>\n",
       "</tr>\n",
       "<tr>\n",
       "  <th>C(region)[T.west]</th>      <td>    0.0165</td> <td>    0.017</td> <td>    0.985</td> <td> 0.325</td> <td>   -0.016</td> <td>    0.049</td>\n",
       "</tr>\n",
       "<tr>\n",
       "  <th>popdensity</th>             <td>    0.0015</td> <td>    0.004</td> <td>    0.353</td> <td> 0.724</td> <td>   -0.007</td> <td>    0.010</td>\n",
       "</tr>\n",
       "<tr>\n",
       "  <th>minorityperc</th>           <td>    0.0097</td> <td>    0.000</td> <td>   32.193</td> <td> 0.000</td> <td>    0.009</td> <td>    0.010</td>\n",
       "</tr>\n",
       "<tr>\n",
       "  <th>collegeperc</th>            <td>    0.0763</td> <td>    0.003</td> <td>   25.167</td> <td> 0.000</td> <td>    0.070</td> <td>    0.082</td>\n",
       "</tr>\n",
       "<tr>\n",
       "  <th>income</th>                 <td>-1.134e-06</td> <td> 5.73e-07</td> <td>   -1.979</td> <td> 0.048</td> <td>-2.26e-06</td> <td>-1.04e-08</td>\n",
       "</tr>\n",
       "</table>\n",
       "<table class=\"simpletable\">\n",
       "<tr>\n",
       "  <th>Omnibus:</th>       <td>430.642</td> <th>  Durbin-Watson:     </th> <td>   1.819</td> \n",
       "</tr>\n",
       "<tr>\n",
       "  <th>Prob(Omnibus):</th> <td> 0.000</td>  <th>  Jarque-Bera (JB):  </th> <td> 733.727</td> \n",
       "</tr>\n",
       "<tr>\n",
       "  <th>Skew:</th>          <td> 0.930</td>  <th>  Prob(JB):          </th> <td>4.71e-160</td>\n",
       "</tr>\n",
       "<tr>\n",
       "  <th>Kurtosis:</th>      <td> 4.516</td>  <th>  Cond. No.          </th> <td>2.14e+05</td> \n",
       "</tr>\n",
       "</table><br/><br/>Notes:<br/>[1] Standard Errors assume that the covariance matrix of the errors is correctly specified.<br/>[2] The condition number is large, 2.14e+05. This might indicate that there are<br/>strong multicollinearity or other numerical problems."
      ],
      "text/plain": [
       "<class 'statsmodels.iolib.summary.Summary'>\n",
       "\"\"\"\n",
       "                            OLS Regression Results                            \n",
       "==============================================================================\n",
       "Dep. Variable:                outcome   R-squared:                       0.447\n",
       "Model:                            OLS   Adj. R-squared:                  0.446\n",
       "Method:                 Least Squares   F-statistic:                     352.0\n",
       "Date:                Sun, 16 Jan 2022   Prob (F-statistic):               0.00\n",
       "Time:                        08:28:46   Log-Likelihood:                -416.07\n",
       "No. Observations:                3058   AIC:                             848.1\n",
       "Df Residuals:                    3050   BIC:                             896.3\n",
       "Df Model:                           7                                         \n",
       "Covariance Type:            nonrobust                                         \n",
       "==========================================================================================\n",
       "                             coef    std err          t      P>|t|      [0.025      0.975]\n",
       "------------------------------------------------------------------------------------------\n",
       "Intercept                 -0.2228      0.023     -9.785      0.000      -0.267      -0.178\n",
       "C(region)[T.northeast]     0.1029      0.022      4.633      0.000       0.059       0.146\n",
       "C(region)[T.south]        -0.1263      0.013     -9.553      0.000      -0.152      -0.100\n",
       "C(region)[T.west]          0.0165      0.017      0.985      0.325      -0.016       0.049\n",
       "popdensity                 0.0015      0.004      0.353      0.724      -0.007       0.010\n",
       "minorityperc               0.0097      0.000     32.193      0.000       0.009       0.010\n",
       "collegeperc                0.0763      0.003     25.167      0.000       0.070       0.082\n",
       "income                 -1.134e-06   5.73e-07     -1.979      0.048   -2.26e-06   -1.04e-08\n",
       "==============================================================================\n",
       "Omnibus:                      430.642   Durbin-Watson:                   1.819\n",
       "Prob(Omnibus):                  0.000   Jarque-Bera (JB):              733.727\n",
       "Skew:                           0.930   Prob(JB):                    4.71e-160\n",
       "Kurtosis:                       4.516   Cond. No.                     2.14e+05\n",
       "==============================================================================\n",
       "\n",
       "Notes:\n",
       "[1] Standard Errors assume that the covariance matrix of the errors is correctly specified.\n",
       "[2] The condition number is large, 2.14e+05. This might indicate that there are\n",
       "strong multicollinearity or other numerical problems.\n",
       "\"\"\""
      ]
     },
     "execution_count": 6,
     "metadata": {},
     "output_type": "execute_result"
    }
   ],
   "source": [
    "# run OLS, print summary values\n",
    "m = smf.ols(\"outcome ~ popdensity + minorityperc + collegeperc + income + C(region)\", data=df_2020_dem).fit()\n",
    "m.summary()"
   ]
  },
  {
   "cell_type": "markdown",
   "id": "748c67c7-70a0-4bd9-8687-68f7e11417ae",
   "metadata": {},
   "source": [
    "#### 6"
   ]
  },
  {
   "cell_type": "markdown",
   "id": "a764c2dd-a585-40e7-ab05-a7d3a24f8e26",
   "metadata": {},
   "source": [
    "Interpreting the coefficients, when these variables are 0/null(for region), there is a negative impact for democrat's vote share by ~0.22. For varible coefficients, for every increase in a county's region of NE or West, there is an increase in democrat's vote share by ~-0.10 and -0.02 respectively, but when the county added is in the South there is a decrease in democrat's vote share by ~0.13. For every increase in 1 unit for population density, minority percentage, or college percentage, there is an increase in democrat's vote share by ~0.002, 0.010, 0.076 respectively, while income results in a decrease of ~-0.000001 for every increase in 1 dollar. However, when viewing the p-values, the West region and population density are not statistically significant coefficients on a significant value of 0.05 (95% confidence). In other words, we cannot rule out the possibility that they do not have any impact on the democrat's vote share, so their coefficients should no longer be considered. \n",
    "\n",
    "R^2 shows that there is not a very strong correlation between all these variables and democrat's vote share, but, on a side note, it could have been affected significantly with the variables that are not statistically significant."
   ]
  },
  {
   "cell_type": "markdown",
   "id": "22baa1a1-3274-48b4-90be-a06b7720a08e",
   "metadata": {},
   "source": [
    "## Predict AirBnB Price\n",
    "#### 1"
   ]
  },
  {
   "cell_type": "code",
   "execution_count": 7,
   "id": "e7b66eb2-43e1-4c11-acdf-6ee0d0793876",
   "metadata": {},
   "outputs": [
    {
     "name": "stdout",
     "output_type": "stream",
     "text": [
      "Number of columns: 4\n",
      "Number of rows: 38814\n",
      "         room_type  accommodates  bedrooms      price\n",
      "0  Entire home/apt             9       3.0    $831.00\n",
      "1     Private room             2       1.0  $1,197.00\n",
      "2  Entire home/apt             2       1.0    $598.00\n",
      "3  Entire home/apt             2       1.0    $598.00\n",
      "4  Entire home/apt             2       1.0    $598.00\n"
     ]
    }
   ],
   "source": [
    "#load in data\n",
    "df_airb = pd.read_csv('/home/jovyan/lost+found/INFO_370/airbnb-beijing-listings.csv.bz2', sep=\",\", usecols = [\"accommodates\", \"price\", \"room_type\", \"bedrooms\"])\n",
    "\n",
    "#sanity checks\n",
    "# print # cols\n",
    "cols = df_airb.shape[1]\n",
    "print(\"Number of columns: \" + str(cols))\n",
    "# print # rows\n",
    "rows = df_airb.shape[0]\n",
    "print(\"Number of rows: \" + str(rows))\n",
    "print(df_airb.head(5)) #sanity check\n",
    "# make df of total count of nulls in each col & print results\n",
    "df_null = df_airb.isnull().sum() # bedrooms: 114"
   ]
  },
  {
   "cell_type": "markdown",
   "id": "fe77ccdc-5cd9-4eaf-ab50-629752067839",
   "metadata": {},
   "source": [
    "#### 2"
   ]
  },
  {
   "cell_type": "code",
   "execution_count": 8,
   "id": "33519bc8-252d-4346-935b-a2ab2ecf4484",
   "metadata": {},
   "outputs": [],
   "source": [
    "# A\n",
    "# change price to numerical values\n",
    "df_airb = df_airb.copy()\n",
    "df_airb['price'] = df_airb['price'].apply(lambda x: x.replace('$', ''))\n",
    "df_airb['price'] = df_airb['price'].apply(lambda x: x.replace(',', ''))\n",
    "df_airb['price'] = pd.to_numeric(df_airb['price'])\n",
    "\n",
    "\n",
    "# B \n",
    "# remove any NaN (bedroom had NaN)\n",
    "df_airb.dropna(inplace=True) \n",
    "df_airb.isnull().sum() # sanity check, other variables did not have any weird/invalid values\n",
    "# when doing log transformations, there cannot be 0, so I had to remove 0 in price\n",
    "df_airb = df_airb[df_airb.price != 0]"
   ]
  },
  {
   "cell_type": "markdown",
   "id": "6b349d77-f871-411c-a013-ea00b83f0922",
   "metadata": {},
   "source": [
    "#### 3"
   ]
  },
  {
   "cell_type": "code",
   "execution_count": 9,
   "id": "f0cb90e5-e578-4a0d-af3a-0e08df5ce399",
   "metadata": {
    "tags": []
   },
   "outputs": [
    {
     "name": "stdout",
     "output_type": "stream",
     "text": [
      "Original Prices\n"
     ]
    },
    {
     "data": {
      "image/png": "[encoded data removed]",
      "text/plain": [
       "<Figure size 432x288 with 1 Axes>"
      ]
     },
     "metadata": {
      "needs_background": "light"
     },
     "output_type": "display_data"
    },
    {
     "name": "stdout",
     "output_type": "stream",
     "text": [
      "Ln transformation of Prices\n"
     ]
    },
    {
     "data": {
      "image/png": "[encoded data removed]",
      "text/plain": [
       "<Figure size 432x288 with 1 Axes>"
      ]
     },
     "metadata": {
      "needs_background": "light"
     },
     "output_type": "display_data"
    }
   ],
   "source": [
    "# plot original prices with label to keep track\n",
    "print(\"Original Prices\")\n",
    "plt.hist(df_airb.price)\n",
    "plt.show()\n",
    "\n",
    "# plot ln prices and label\n",
    "print(\"Ln transformation of Prices\")\n",
    "plt.hist(np.log(df_airb.price))\n",
    "plt.show()\n",
    "\n",
    "# make new column in df with ln transformation for OLS later\n",
    "df_airb['ln_price'] = np.log(df_airb.price)"
   ]
  },
  {
   "cell_type": "markdown",
   "id": "cc10d649-f674-4dd8-a2ca-d24ddbef4140",
   "metadata": {},
   "source": [
    "The distribution is so obviously right-skewed, it definitely needs to have a log-transformation. After the transformation, it does not look as normal as I would have expected as it is still right-skewed, but it is definitely more normal than the original prices."
   ]
  },
  {
   "cell_type": "markdown",
   "id": "f47f174f-4399-41b3-97e8-90139d21d6bd",
   "metadata": {},
   "source": [
    "#### 4"
   ]
  },
  {
   "cell_type": "code",
   "execution_count": 10,
   "id": "b4ed6736-700f-48a6-afbb-c8374b45e7ba",
   "metadata": {},
   "outputs": [],
   "source": [
    "# not sure why, but would not work before I changed bedroom to int\n",
    "df_airb.bedrooms = df_airb.bedrooms.values.astype(int)\n",
    "\n",
    "# from txbk, set category value in accordance to int value inequality/equality, and make into new ordered \n",
    "# categorical variable\n",
    "df_airb[\"bedroom_cat\"] = np.where(df_airb.bedrooms == 0, \"0\", df_airb.bedrooms)\n",
    "df_airb[\"bedroom_cat\"] = np.where(df_airb.bedrooms == 1, \"1\", df_airb.bedrooms)\n",
    "df_airb[\"bedroom_cat\"] = np.where(df_airb.bedrooms == 2, \"2\", df_airb.bedrooms)\n",
    "df_airb[\"bedroom_cat\"] = np.where(df_airb.bedrooms == 3, \"3\", df_airb.bedrooms)\n",
    "df_airb[\"bedroom_cat\"] = np.where(df_airb.bedrooms >= 4, \"4+\", df_airb.bedrooms)"
   ]
  },
  {
   "cell_type": "markdown",
   "id": "299089e9-d982-4d8a-b801-07872218e7cb",
   "metadata": {},
   "source": [
    "#### 5"
   ]
  },
  {
   "cell_type": "code",
   "execution_count": 11,
   "id": "ce42a589-e030-4bca-93ef-af2ab20b97f4",
   "metadata": {},
   "outputs": [
    {
     "data": {
      "text/html": [
       "<table class=\"simpletable\">\n",
       "<caption>OLS Regression Results</caption>\n",
       "<tr>\n",
       "  <th>Dep. Variable:</th>          <td>price</td>      <th>  R-squared:         </th>  <td>   0.101</td>  \n",
       "</tr>\n",
       "<tr>\n",
       "  <th>Model:</th>                   <td>OLS</td>       <th>  Adj. R-squared:    </th>  <td>   0.101</td>  \n",
       "</tr>\n",
       "<tr>\n",
       "  <th>Method:</th>             <td>Least Squares</td>  <th>  F-statistic:       </th>  <td>   1087.</td>  \n",
       "</tr>\n",
       "<tr>\n",
       "  <th>Date:</th>             <td>Sun, 16 Jan 2022</td> <th>  Prob (F-statistic):</th>   <td>  0.00</td>   \n",
       "</tr>\n",
       "<tr>\n",
       "  <th>Time:</th>                 <td>08:28:55</td>     <th>  Log-Likelihood:    </th> <td>-3.4145e+05</td>\n",
       "</tr>\n",
       "<tr>\n",
       "  <th>No. Observations:</th>      <td> 38691</td>      <th>  AIC:               </th>  <td>6.829e+05</td> \n",
       "</tr>\n",
       "<tr>\n",
       "  <th>Df Residuals:</th>          <td> 38686</td>      <th>  BIC:               </th>  <td>6.830e+05</td> \n",
       "</tr>\n",
       "<tr>\n",
       "  <th>Df Model:</th>              <td>     4</td>      <th>                     </th>      <td> </td>     \n",
       "</tr>\n",
       "<tr>\n",
       "  <th>Covariance Type:</th>      <td>nonrobust</td>    <th>                     </th>      <td> </td>     \n",
       "</tr>\n",
       "</table>\n",
       "<table class=\"simpletable\">\n",
       "<tr>\n",
       "            <td></td>              <th>coef</th>     <th>std err</th>      <th>t</th>      <th>P>|t|</th>  <th>[0.025</th>    <th>0.975]</th>  \n",
       "</tr>\n",
       "<tr>\n",
       "  <th>Intercept</th>            <td>  448.8851</td> <td>  107.381</td> <td>    4.180</td> <td> 0.000</td> <td>  238.416</td> <td>  659.355</td>\n",
       "</tr>\n",
       "<tr>\n",
       "  <th>C(bedroom_cat)[T.1]</th>  <td>  -10.8376</td> <td>  107.871</td> <td>   -0.100</td> <td> 0.920</td> <td> -222.267</td> <td>  200.592</td>\n",
       "</tr>\n",
       "<tr>\n",
       "  <th>C(bedroom_cat)[T.2]</th>  <td>  295.9590</td> <td>  109.020</td> <td>    2.715</td> <td> 0.007</td> <td>   82.277</td> <td>  509.641</td>\n",
       "</tr>\n",
       "<tr>\n",
       "  <th>C(bedroom_cat)[T.3]</th>  <td>  746.0202</td> <td>  112.190</td> <td>    6.650</td> <td> 0.000</td> <td>  526.124</td> <td>  965.916</td>\n",
       "</tr>\n",
       "<tr>\n",
       "  <th>C(bedroom_cat)[T.4+]</th> <td> 2166.9236</td> <td>  112.218</td> <td>   19.310</td> <td> 0.000</td> <td> 1946.973</td> <td> 2386.874</td>\n",
       "</tr>\n",
       "</table>\n",
       "<table class=\"simpletable\">\n",
       "<tr>\n",
       "  <th>Omnibus:</th>       <td>95690.629</td> <th>  Durbin-Watson:     </th>    <td>   1.974</td>   \n",
       "</tr>\n",
       "<tr>\n",
       "  <th>Prob(Omnibus):</th>  <td> 0.000</td>   <th>  Jarque-Bera (JB):  </th> <td>1516867980.268</td>\n",
       "</tr>\n",
       "<tr>\n",
       "  <th>Skew:</th>           <td>26.751</td>   <th>  Prob(JB):          </th>    <td>    0.00</td>   \n",
       "</tr>\n",
       "<tr>\n",
       "  <th>Kurtosis:</th>       <td>971.530</td>  <th>  Cond. No.          </th>    <td>    35.8</td>   \n",
       "</tr>\n",
       "</table><br/><br/>Notes:<br/>[1] Standard Errors assume that the covariance matrix of the errors is correctly specified."
      ],
      "text/plain": [
       "<class 'statsmodels.iolib.summary.Summary'>\n",
       "\"\"\"\n",
       "                            OLS Regression Results                            \n",
       "==============================================================================\n",
       "Dep. Variable:                  price   R-squared:                       0.101\n",
       "Model:                            OLS   Adj. R-squared:                  0.101\n",
       "Method:                 Least Squares   F-statistic:                     1087.\n",
       "Date:                Sun, 16 Jan 2022   Prob (F-statistic):               0.00\n",
       "Time:                        08:28:55   Log-Likelihood:            -3.4145e+05\n",
       "No. Observations:               38691   AIC:                         6.829e+05\n",
       "Df Residuals:                   38686   BIC:                         6.830e+05\n",
       "Df Model:                           4                                         \n",
       "Covariance Type:            nonrobust                                         \n",
       "========================================================================================\n",
       "                           coef    std err          t      P>|t|      [0.025      0.975]\n",
       "----------------------------------------------------------------------------------------\n",
       "Intercept              448.8851    107.381      4.180      0.000     238.416     659.355\n",
       "C(bedroom_cat)[T.1]    -10.8376    107.871     -0.100      0.920    -222.267     200.592\n",
       "C(bedroom_cat)[T.2]    295.9590    109.020      2.715      0.007      82.277     509.641\n",
       "C(bedroom_cat)[T.3]    746.0202    112.190      6.650      0.000     526.124     965.916\n",
       "C(bedroom_cat)[T.4+]  2166.9236    112.218     19.310      0.000    1946.973    2386.874\n",
       "==============================================================================\n",
       "Omnibus:                    95690.629   Durbin-Watson:                   1.974\n",
       "Prob(Omnibus):                  0.000   Jarque-Bera (JB):       1516867980.268\n",
       "Skew:                          26.751   Prob(JB):                         0.00\n",
       "Kurtosis:                     971.530   Cond. No.                         35.8\n",
       "==============================================================================\n",
       "\n",
       "Notes:\n",
       "[1] Standard Errors assume that the covariance matrix of the errors is correctly specified.\n",
       "\"\"\""
      ]
     },
     "execution_count": 11,
     "metadata": {},
     "output_type": "execute_result"
    }
   ],
   "source": [
    "# run OLS, print summary values, is not -12.62 for bedroom count 1, but is close so probably difference \n",
    "# in cleaning procedure\n",
    "m_bed = smf.ols(\"price ~ C(bedroom_cat)\", data=df_airb).fit()\n",
    "m_bed.summary()"
   ]
  },
  {
   "cell_type": "markdown",
   "id": "c52bb99d-b5ca-4c2d-b7e8-60b6305f194f",
   "metadata": {},
   "source": [
    "Interpretation of coefficients: when the bedroom is 0, price is ~\\\\$448.89, and for every increase of a 1 bed, there is a decrease in price of ~-\\\\$10.84. For every addition of a 2, 3, or 4+ bedroom airbnb, there is an increase in price of ~\\\\$295.96, \\\\$746.02, and \\\\$2166.92 respectively. The p-values are all < 0.05 (a significant value 0.05, or in other words 95% confidence), except for bedroom count of 1, so that coefficient is no longer statistically significant. \n",
    "\n",
    "Interpretation of R^2: it is 0.101, which is a very low R^2 as it is much closer to 0 than 1, meaning there is not a strong correlation, if anything it is closer to having no correlation as there is only a slight correlation. "
   ]
  },
  {
   "cell_type": "markdown",
   "id": "7e756c92-e1ac-4d6d-8b6f-81e5e928698a",
   "metadata": {},
   "source": [
    "#### 6"
   ]
  },
  {
   "cell_type": "code",
   "execution_count": 12,
   "id": "c4247908-f7f3-449f-9cd2-6b47e5d18726",
   "metadata": {},
   "outputs": [
    {
     "data": {
      "text/html": [
       "<table class=\"simpletable\">\n",
       "<caption>OLS Regression Results</caption>\n",
       "<tr>\n",
       "  <th>Dep. Variable:</th>        <td>ln_price</td>     <th>  R-squared:         </th> <td>   0.320</td> \n",
       "</tr>\n",
       "<tr>\n",
       "  <th>Model:</th>                   <td>OLS</td>       <th>  Adj. R-squared:    </th> <td>   0.320</td> \n",
       "</tr>\n",
       "<tr>\n",
       "  <th>Method:</th>             <td>Least Squares</td>  <th>  F-statistic:       </th> <td>   4555.</td> \n",
       "</tr>\n",
       "<tr>\n",
       "  <th>Date:</th>             <td>Sun, 16 Jan 2022</td> <th>  Prob (F-statistic):</th>  <td>  0.00</td>  \n",
       "</tr>\n",
       "<tr>\n",
       "  <th>Time:</th>                 <td>08:28:55</td>     <th>  Log-Likelihood:    </th> <td> -40101.</td> \n",
       "</tr>\n",
       "<tr>\n",
       "  <th>No. Observations:</th>      <td> 38691</td>      <th>  AIC:               </th> <td>8.021e+04</td>\n",
       "</tr>\n",
       "<tr>\n",
       "  <th>Df Residuals:</th>          <td> 38686</td>      <th>  BIC:               </th> <td>8.025e+04</td>\n",
       "</tr>\n",
       "<tr>\n",
       "  <th>Df Model:</th>              <td>     4</td>      <th>                     </th>     <td> </td>    \n",
       "</tr>\n",
       "<tr>\n",
       "  <th>Covariance Type:</th>      <td>nonrobust</td>    <th>                     </th>     <td> </td>    \n",
       "</tr>\n",
       "</table>\n",
       "<table class=\"simpletable\">\n",
       "<tr>\n",
       "            <td></td>              <th>coef</th>     <th>std err</th>      <th>t</th>      <th>P>|t|</th>  <th>[0.025</th>    <th>0.975]</th>  \n",
       "</tr>\n",
       "<tr>\n",
       "  <th>Intercept</th>            <td>    5.8117</td> <td>    0.045</td> <td>  130.594</td> <td> 0.000</td> <td>    5.724</td> <td>    5.899</td>\n",
       "</tr>\n",
       "<tr>\n",
       "  <th>C(bedroom_cat)[T.1]</th>  <td>   -0.0322</td> <td>    0.045</td> <td>   -0.721</td> <td> 0.471</td> <td>   -0.120</td> <td>    0.055</td>\n",
       "</tr>\n",
       "<tr>\n",
       "  <th>C(bedroom_cat)[T.2]</th>  <td>    0.5306</td> <td>    0.045</td> <td>   11.743</td> <td> 0.000</td> <td>    0.442</td> <td>    0.619</td>\n",
       "</tr>\n",
       "<tr>\n",
       "  <th>C(bedroom_cat)[T.3]</th>  <td>    0.9396</td> <td>    0.046</td> <td>   20.208</td> <td> 0.000</td> <td>    0.848</td> <td>    1.031</td>\n",
       "</tr>\n",
       "<tr>\n",
       "  <th>C(bedroom_cat)[T.4+]</th> <td>    1.5924</td> <td>    0.047</td> <td>   34.240</td> <td> 0.000</td> <td>    1.501</td> <td>    1.684</td>\n",
       "</tr>\n",
       "</table>\n",
       "<table class=\"simpletable\">\n",
       "<tr>\n",
       "  <th>Omnibus:</th>       <td>3919.550</td> <th>  Durbin-Watson:     </th> <td>   1.781</td> \n",
       "</tr>\n",
       "<tr>\n",
       "  <th>Prob(Omnibus):</th>  <td> 0.000</td>  <th>  Jarque-Bera (JB):  </th> <td>17154.012</td>\n",
       "</tr>\n",
       "<tr>\n",
       "  <th>Skew:</th>           <td> 0.423</td>  <th>  Prob(JB):          </th> <td>    0.00</td> \n",
       "</tr>\n",
       "<tr>\n",
       "  <th>Kurtosis:</th>       <td> 6.151</td>  <th>  Cond. No.          </th> <td>    35.8</td> \n",
       "</tr>\n",
       "</table><br/><br/>Notes:<br/>[1] Standard Errors assume that the covariance matrix of the errors is correctly specified."
      ],
      "text/plain": [
       "<class 'statsmodels.iolib.summary.Summary'>\n",
       "\"\"\"\n",
       "                            OLS Regression Results                            \n",
       "==============================================================================\n",
       "Dep. Variable:               ln_price   R-squared:                       0.320\n",
       "Model:                            OLS   Adj. R-squared:                  0.320\n",
       "Method:                 Least Squares   F-statistic:                     4555.\n",
       "Date:                Sun, 16 Jan 2022   Prob (F-statistic):               0.00\n",
       "Time:                        08:28:55   Log-Likelihood:                -40101.\n",
       "No. Observations:               38691   AIC:                         8.021e+04\n",
       "Df Residuals:                   38686   BIC:                         8.025e+04\n",
       "Df Model:                           4                                         \n",
       "Covariance Type:            nonrobust                                         \n",
       "========================================================================================\n",
       "                           coef    std err          t      P>|t|      [0.025      0.975]\n",
       "----------------------------------------------------------------------------------------\n",
       "Intercept                5.8117      0.045    130.594      0.000       5.724       5.899\n",
       "C(bedroom_cat)[T.1]     -0.0322      0.045     -0.721      0.471      -0.120       0.055\n",
       "C(bedroom_cat)[T.2]      0.5306      0.045     11.743      0.000       0.442       0.619\n",
       "C(bedroom_cat)[T.3]      0.9396      0.046     20.208      0.000       0.848       1.031\n",
       "C(bedroom_cat)[T.4+]     1.5924      0.047     34.240      0.000       1.501       1.684\n",
       "==============================================================================\n",
       "Omnibus:                     3919.550   Durbin-Watson:                   1.781\n",
       "Prob(Omnibus):                  0.000   Jarque-Bera (JB):            17154.012\n",
       "Skew:                           0.423   Prob(JB):                         0.00\n",
       "Kurtosis:                       6.151   Cond. No.                         35.8\n",
       "==============================================================================\n",
       "\n",
       "Notes:\n",
       "[1] Standard Errors assume that the covariance matrix of the errors is correctly specified.\n",
       "\"\"\""
      ]
     },
     "execution_count": 12,
     "metadata": {},
     "output_type": "execute_result"
    }
   ],
   "source": [
    "# run OLS, print summary values for ln_price\n",
    "m_lnprice = smf.ols(\"ln_price ~ C(bedroom_cat)\", data=df_airb).fit()\n",
    "m_lnprice.summary()"
   ]
  },
  {
   "cell_type": "markdown",
   "id": "f4ba64f0-52cc-426d-906c-f3fbfeb3c8f8",
   "metadata": {},
   "source": [
    "Interpretation of coefficients: when the bedroom is 0, log price is ~5.81, and for every increase of a 1 bed, there is a decrease in log price of ~-0.03. For every addition of a 2, 3, or 4+ bedroom airbnb, there is an increase in log price of ~0.53, 0.94, and 1.59 respectively. The p-values are all < 0.05 (a significant value 0.05, or in other words 95% confidence), except for bedroom count of 1, so that coefficient is no longer statistically significant. Although the p-value did decrease significantly, it is still > 0.05\n",
    "\n",
    "Interpretation of R^2: it is 0.320, which is a low R^2 as it is closer to 0 than 1, meaning there is not a slightly stronger correlation for log price than regular price (i.e. this is the model that behaves better in the sense of R^2), but it was not a huge increase."
   ]
  },
  {
   "cell_type": "markdown",
   "id": "bab71c3d-f458-4531-b8e2-5f2a17e64ea1",
   "metadata": {},
   "source": [
    "#### 7"
   ]
  },
  {
   "cell_type": "code",
   "execution_count": 13,
   "id": "10d9815e-8796-4fa0-a955-8b14b4caa3d3",
   "metadata": {},
   "outputs": [
    {
     "data": {
      "text/html": [
       "<table class=\"simpletable\">\n",
       "<caption>OLS Regression Results</caption>\n",
       "<tr>\n",
       "  <th>Dep. Variable:</th>        <td>ln_price</td>     <th>  R-squared:         </th> <td>   0.440</td> \n",
       "</tr>\n",
       "<tr>\n",
       "  <th>Model:</th>                   <td>OLS</td>       <th>  Adj. R-squared:    </th> <td>   0.439</td> \n",
       "</tr>\n",
       "<tr>\n",
       "  <th>Method:</th>             <td>Least Squares</td>  <th>  F-statistic:       </th> <td>   3372.</td> \n",
       "</tr>\n",
       "<tr>\n",
       "  <th>Date:</th>             <td>Sun, 16 Jan 2022</td> <th>  Prob (F-statistic):</th>  <td>  0.00</td>  \n",
       "</tr>\n",
       "<tr>\n",
       "  <th>Time:</th>                 <td>08:28:56</td>     <th>  Log-Likelihood:    </th> <td> -36363.</td> \n",
       "</tr>\n",
       "<tr>\n",
       "  <th>No. Observations:</th>      <td> 38691</td>      <th>  AIC:               </th> <td>7.275e+04</td>\n",
       "</tr>\n",
       "<tr>\n",
       "  <th>Df Residuals:</th>          <td> 38681</td>      <th>  BIC:               </th> <td>7.283e+04</td>\n",
       "</tr>\n",
       "<tr>\n",
       "  <th>Df Model:</th>              <td>     9</td>      <th>                     </th>     <td> </td>    \n",
       "</tr>\n",
       "<tr>\n",
       "  <th>Covariance Type:</th>      <td>nonrobust</td>    <th>                     </th>     <td> </td>    \n",
       "</tr>\n",
       "</table>\n",
       "<table class=\"simpletable\">\n",
       "<tr>\n",
       "                <td></td>                  <th>coef</th>     <th>std err</th>      <th>t</th>      <th>P>|t|</th>  <th>[0.025</th>    <th>0.975]</th>  \n",
       "</tr>\n",
       "<tr>\n",
       "  <th>Intercept</th>                    <td>    5.5807</td> <td>    0.042</td> <td>  131.943</td> <td> 0.000</td> <td>    5.498</td> <td>    5.664</td>\n",
       "</tr>\n",
       "<tr>\n",
       "  <th>C(bedroom_cat)[T.1]</th>          <td>    0.0576</td> <td>    0.041</td> <td>    1.418</td> <td> 0.156</td> <td>   -0.022</td> <td>    0.137</td>\n",
       "</tr>\n",
       "<tr>\n",
       "  <th>C(bedroom_cat)[T.2]</th>          <td>    0.1956</td> <td>    0.042</td> <td>    4.699</td> <td> 0.000</td> <td>    0.114</td> <td>    0.277</td>\n",
       "</tr>\n",
       "<tr>\n",
       "  <th>C(bedroom_cat)[T.3]</th>          <td>    0.5956</td> <td>    0.043</td> <td>   13.893</td> <td> 0.000</td> <td>    0.512</td> <td>    0.680</td>\n",
       "</tr>\n",
       "<tr>\n",
       "  <th>C(bedroom_cat)[T.4+]</th>         <td>    1.2760</td> <td>    0.043</td> <td>   29.737</td> <td> 0.000</td> <td>    1.192</td> <td>    1.360</td>\n",
       "</tr>\n",
       "<tr>\n",
       "  <th>C(room_type)[T.Private room]</th> <td>   -0.3143</td> <td>    0.008</td> <td>  -41.875</td> <td> 0.000</td> <td>   -0.329</td> <td>   -0.300</td>\n",
       "</tr>\n",
       "<tr>\n",
       "  <th>C(room_type)[T.Shared room]</th>  <td>   -0.9192</td> <td>    0.017</td> <td>  -53.894</td> <td> 0.000</td> <td>   -0.953</td> <td>   -0.886</td>\n",
       "</tr>\n",
       "<tr>\n",
       "  <th>C(accom_cat)[T.2]</th>            <td>    0.3331</td> <td>    0.014</td> <td>   24.333</td> <td> 0.000</td> <td>    0.306</td> <td>    0.360</td>\n",
       "</tr>\n",
       "<tr>\n",
       "  <th>C(accom_cat)[T.3]</th>            <td>    0.3978</td> <td>    0.017</td> <td>   23.526</td> <td> 0.000</td> <td>    0.365</td> <td>    0.431</td>\n",
       "</tr>\n",
       "<tr>\n",
       "  <th>C(accom_cat)[T.4 and more]</th>   <td>    0.6237</td> <td>    0.016</td> <td>   39.710</td> <td> 0.000</td> <td>    0.593</td> <td>    0.655</td>\n",
       "</tr>\n",
       "</table>\n",
       "<table class=\"simpletable\">\n",
       "<tr>\n",
       "  <th>Omnibus:</th>       <td>9228.818</td> <th>  Durbin-Watson:     </th> <td>   1.785</td> \n",
       "</tr>\n",
       "<tr>\n",
       "  <th>Prob(Omnibus):</th>  <td> 0.000</td>  <th>  Jarque-Bera (JB):  </th> <td>49972.776</td>\n",
       "</tr>\n",
       "<tr>\n",
       "  <th>Skew:</th>           <td> 1.044</td>  <th>  Prob(JB):          </th> <td>    0.00</td> \n",
       "</tr>\n",
       "<tr>\n",
       "  <th>Kurtosis:</th>       <td> 8.161</td>  <th>  Cond. No.          </th> <td>    41.5</td> \n",
       "</tr>\n",
       "</table><br/><br/>Notes:<br/>[1] Standard Errors assume that the covariance matrix of the errors is correctly specified."
      ],
      "text/plain": [
       "<class 'statsmodels.iolib.summary.Summary'>\n",
       "\"\"\"\n",
       "                            OLS Regression Results                            \n",
       "==============================================================================\n",
       "Dep. Variable:               ln_price   R-squared:                       0.440\n",
       "Model:                            OLS   Adj. R-squared:                  0.439\n",
       "Method:                 Least Squares   F-statistic:                     3372.\n",
       "Date:                Sun, 16 Jan 2022   Prob (F-statistic):               0.00\n",
       "Time:                        08:28:56   Log-Likelihood:                -36363.\n",
       "No. Observations:               38691   AIC:                         7.275e+04\n",
       "Df Residuals:                   38681   BIC:                         7.283e+04\n",
       "Df Model:                           9                                         \n",
       "Covariance Type:            nonrobust                                         \n",
       "================================================================================================\n",
       "                                   coef    std err          t      P>|t|      [0.025      0.975]\n",
       "------------------------------------------------------------------------------------------------\n",
       "Intercept                        5.5807      0.042    131.943      0.000       5.498       5.664\n",
       "C(bedroom_cat)[T.1]              0.0576      0.041      1.418      0.156      -0.022       0.137\n",
       "C(bedroom_cat)[T.2]              0.1956      0.042      4.699      0.000       0.114       0.277\n",
       "C(bedroom_cat)[T.3]              0.5956      0.043     13.893      0.000       0.512       0.680\n",
       "C(bedroom_cat)[T.4+]             1.2760      0.043     29.737      0.000       1.192       1.360\n",
       "C(room_type)[T.Private room]    -0.3143      0.008    -41.875      0.000      -0.329      -0.300\n",
       "C(room_type)[T.Shared room]     -0.9192      0.017    -53.894      0.000      -0.953      -0.886\n",
       "C(accom_cat)[T.2]                0.3331      0.014     24.333      0.000       0.306       0.360\n",
       "C(accom_cat)[T.3]                0.3978      0.017     23.526      0.000       0.365       0.431\n",
       "C(accom_cat)[T.4 and more]       0.6237      0.016     39.710      0.000       0.593       0.655\n",
       "==============================================================================\n",
       "Omnibus:                     9228.818   Durbin-Watson:                   1.785\n",
       "Prob(Omnibus):                  0.000   Jarque-Bera (JB):            49972.776\n",
       "Skew:                           1.044   Prob(JB):                         0.00\n",
       "Kurtosis:                       8.161   Cond. No.                         41.5\n",
       "==============================================================================\n",
       "\n",
       "Notes:\n",
       "[1] Standard Errors assume that the covariance matrix of the errors is correctly specified.\n",
       "\"\"\""
      ]
     },
     "execution_count": 13,
     "metadata": {},
     "output_type": "execute_result"
    }
   ],
   "source": [
    "# from txbk, set category value in accordance to int value inequality/equality, and make into new \n",
    "# ordered categorical variable\n",
    "df_airb[\"accom_cat\"] = np.where(df_airb.accommodates == 1, \"1\", df_airb.accommodates)\n",
    "df_airb[\"accom_cat\"] = np.where(df_airb.accommodates == 2, \"2\", df_airb.accommodates)\n",
    "df_airb[\"accom_cat\"] = np.where(df_airb.accommodates == 3, \"3\", df_airb.accommodates)\n",
    "df_airb[\"accom_cat\"] = np.where(df_airb.accommodates >= 4, \"4 and more\", df_airb.accommodates)\n",
    "\n",
    "\n",
    "# run OLS, print summary values for ln_price, adding room_type and accomodates\n",
    "m_ln_all = smf.ols(\"ln_price ~ C(bedroom_cat) + C(room_type) + C(accom_cat)\", data=df_airb).fit()\n",
    "m_ln_all.summary()"
   ]
  },
  {
   "cell_type": "markdown",
   "id": "80121a2e-be0b-4f52-a7f7-ef7e41b1aeff",
   "metadata": {},
   "source": [
    "All of the coefficients are statistically significant except again for 1 bedroom (again, the p-value decreased significantly but is still < 0.05). While it made sense to me that a shared room should decrease the price, I was intially surprised that a private room would decrease the price, but then I realized that a private room would only mean a room not the airbnb house as a whole, so it would make sense to have a lower price. The other important trends is that the more bedrooms there are, the larger the coefficients which makes sense. The same pattern occurs for accommodates, which also makes sense. \n",
    "\n",
    "The relevant reference catrgories are 0-BR, Entire home/apt-RT, and 1-Accommodates. As for R^2, although it is an increase from the log price of only bedroom (i.e. is the model that behaves the best so far based on R^2), it is not a significantly greater increase as it is still less than 0.5, meaning the correlation is still not that strong."
   ]
  },
  {
   "cell_type": "markdown",
   "id": "c4b81dab-a79a-490d-a0e1-cb536657d623",
   "metadata": {},
   "source": [
    "#### 8"
   ]
  },
  {
   "cell_type": "code",
   "execution_count": 14,
   "id": "3a916e0c-cd1c-42cc-aef5-6e8b3a7b52ef",
   "metadata": {},
   "outputs": [
    {
     "name": "stdout",
     "output_type": "stream",
     "text": [
      "First 5 observations and their predictions: \n",
      "0    6.799978\n",
      "1    5.657081\n",
      "2    5.971426\n",
      "3    5.971426\n",
      "4    5.971426\n",
      "dtype: float64\n"
     ]
    }
   ],
   "source": [
    "# get predicted values from df (having df of only variables or original does not matter)\n",
    "yhat = m_ln_all.predict(df_airb)\n",
    "print(\"First 5 observations and their predictions: \\n\" + str(yhat.head()))"
   ]
  },
  {
   "cell_type": "markdown",
   "id": "d0ad494c-fc2d-40c4-86fb-00daa0242c29",
   "metadata": {},
   "source": [
    "#### 9"
   ]
  },
  {
   "cell_type": "code",
   "execution_count": 15,
   "id": "d8a80bb1-6699-408f-a911-72c80024517c",
   "metadata": {},
   "outputs": [
    {
     "ename": "NameError",
     "evalue": "name 'abnb' is not defined",
     "output_type": "error",
     "traceback": [
      "\u001b[0;31m---------------------------------------------------------------------------\u001b[0m",
      "\u001b[0;31mNameError\u001b[0m                                 Traceback (most recent call last)",
      "\u001b[0;32m<ipython-input-15-7536e4849464>\u001b[0m in \u001b[0;36m<module>\u001b[0;34m\u001b[0m\n\u001b[1;32m      2\u001b[0m \u001b[0me_squared\u001b[0m \u001b[0;34m=\u001b[0m \u001b[0;34m(\u001b[0m\u001b[0mdf_airb\u001b[0m\u001b[0;34m.\u001b[0m\u001b[0mln_price\u001b[0m \u001b[0;34m-\u001b[0m \u001b[0myhat\u001b[0m\u001b[0;34m)\u001b[0m\u001b[0;34m**\u001b[0m\u001b[0;36m2\u001b[0m\u001b[0;34m\u001b[0m\u001b[0;34m\u001b[0m\u001b[0m\n\u001b[1;32m      3\u001b[0m \u001b[0mmse\u001b[0m \u001b[0;34m=\u001b[0m \u001b[0;36m1\u001b[0m\u001b[0;34m/\u001b[0m\u001b[0mdf_airb\u001b[0m\u001b[0;34m.\u001b[0m\u001b[0mshape\u001b[0m\u001b[0;34m[\u001b[0m\u001b[0;36m0\u001b[0m\u001b[0;34m]\u001b[0m \u001b[0;34m*\u001b[0m \u001b[0msum\u001b[0m\u001b[0;34m(\u001b[0m\u001b[0me_squared\u001b[0m\u001b[0;34m)\u001b[0m\u001b[0;34m\u001b[0m\u001b[0;34m\u001b[0m\u001b[0m\n\u001b[0;32m----> 4\u001b[0;31m \u001b[0mrmse\u001b[0m \u001b[0;34m=\u001b[0m \u001b[0mnp\u001b[0m\u001b[0;34m.\u001b[0m\u001b[0msqrt\u001b[0m\u001b[0;34m(\u001b[0m\u001b[0mnp\u001b[0m\u001b[0;34m.\u001b[0m\u001b[0mmean\u001b[0m\u001b[0;34m(\u001b[0m\u001b[0;34m(\u001b[0m\u001b[0mnp\u001b[0m\u001b[0;34m.\u001b[0m\u001b[0mlog\u001b[0m\u001b[0;34m(\u001b[0m\u001b[0mabnb\u001b[0m\u001b[0;34m.\u001b[0m\u001b[0mprice\u001b[0m\u001b[0;34m)\u001b[0m \u001b[0;34m-\u001b[0m \u001b[0mlogPriceHat\u001b[0m\u001b[0;34m)\u001b[0m\u001b[0;34m**\u001b[0m\u001b[0;36m2\u001b[0m\u001b[0;34m)\u001b[0m\u001b[0;34m)\u001b[0m\u001b[0;34m\u001b[0m\u001b[0;34m\u001b[0m\u001b[0m\n\u001b[0m\u001b[1;32m      5\u001b[0m \u001b[0;31m#rmse = mse**1/2\u001b[0m\u001b[0;34m\u001b[0m\u001b[0;34m\u001b[0m\u001b[0;34m\u001b[0m\u001b[0m\n\u001b[1;32m      6\u001b[0m \u001b[0;34m\u001b[0m\u001b[0m\n",
      "\u001b[0;31mNameError\u001b[0m: name 'abnb' is not defined"
     ]
    }
   ],
   "source": [
    "# compute RMSE\n",
    "e_squared = (df_airb.ln_price - yhat)**2\n",
    "mse = 1/df_airb.shape[0] * sum(e_squared)\n",
    "rmse = np.sqrt(np.mean((np.log(abnb.price) - logPriceHat)**2))\n",
    "#rmse = mse**1/2\n",
    "\n",
    "# print result\n",
    "print(\"RMSE = \" + str(rmse) + \". In other words, typically, our log price predictions are off by \" + str(rmse))"
   ]
  },
  {
   "cell_type": "markdown",
   "id": "07ee98f6-de47-448f-aec3-dd645b25cf1f",
   "metadata": {},
   "source": [
    "#### 10"
   ]
  },
  {
   "cell_type": "code",
   "execution_count": null,
   "id": "42695226-10c7-40dc-bc93-19270631a496",
   "metadata": {},
   "outputs": [],
   "source": [
    "# get parameters/coeff\n",
    "beta = m_ln_all.params\n",
    "# put 1 or 0 unit for correct coefficients manually\n",
    "X = np.column_stack([[1], [0], [1], [0], [0], [0], [0], [0], [0], [1]])\n",
    "# compute predicted yhat\n",
    "yhat_10 = X @ beta\n",
    "\n",
    "# print results\n",
    "print(\"Predicted log price for 2-bed, full house/apt, that accommodates 4 is \" + str(yhat_10[0]))\n",
    "\n",
    "# filter original df for variables only of conditions listed\n",
    "find = df_airb[(df_airb.bedroom_cat == '2') & (df_airb.room_type == 'Entire home/apt') & (df_airb.accom_cat == '4 and more')]\n",
    "yhat_10_check = m_ln_all.predict(find) # sanity check to see if manual way was correct, was correct"
   ]
  }
 ],
 "metadata": {
  "kernelspec": {
   "display_name": "Python 3",
   "language": "python",
   "name": "python3"
  },
  "language_info": {
   "codemirror_mode": {
    "name": "ipython",
    "version": 3
   },
   "file_extension": ".py",
   "mimetype": "text/x-python",
   "name": "python",
   "nbconvert_exporter": "python",
   "pygments_lexer": "ipython3",
   "version": "3.8.8"
  }
 },
 "nbformat": 4,
 "nbformat_minor": 5
}
