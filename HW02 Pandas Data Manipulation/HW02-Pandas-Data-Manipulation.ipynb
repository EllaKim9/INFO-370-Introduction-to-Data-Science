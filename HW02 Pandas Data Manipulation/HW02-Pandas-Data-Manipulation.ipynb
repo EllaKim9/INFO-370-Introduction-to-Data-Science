{
 "cells": [
  {
   "cell_type": "markdown",
   "id": "1a533b61-df8e-432d-9ba5-647919006a2b",
   "metadata": {},
   "source": [
    "# Info 370 HW 02:  Data manipulations (Pandas)\n",
    "\n",
    "Name: Ella Kim   \n",
    "\n",
    "*Citations are hyperlinked*\n",
    "\n",
    "## Data import and summary\n",
    "#### 1 \n",
    "Load the data  \n",
    "Do basic sanity checks:  \n",
    "(a) How many variables (columns) is there in the data? Ensure you know the variables in the\n",
    "data. Keep the documentation nearby.  \n",
    "(b) How many rows of data is there?  \n",
    "(c) Print the first few lines of data. Does it look reasonable?  \n"
   ]
  },
  {
   "cell_type": "code",
   "execution_count": 37,
   "id": "d76bab67-e232-49c4-98ae-ea3ae6090193",
   "metadata": {},
   "outputs": [],
   "source": [
    "import pandas as pd\n",
    "import numpy as np\n",
    "import matplotlib.pyplot as plt\n",
    "import warnings\n",
    "import os\n",
    "os.getcwd()\n",
    "df_gapminder = pd.read_csv('/home/jovyan/lost+found/INFO_370/gapminder.csv.bz2', sep = \"\\t\")\n",
    "df_gapminder_save = df_gapminder[~df_gapminder.GDP_PC.isnull()]\n",
    "df_gapminder_save = df_gapminder_save[~df_gapminder_save.lifeExpectancy.isnull()]\n",
    "df_gapminder_save = df_gapminder_save[~df_gapminder_save.childMortality.isnull()]\n",
    "countries = ['Equatorial Guinea', 'Luxembourg', 'Bosnia and Herzegovina', 'Ethiopia']\n",
    "df_gapminder_s = df_gapminder_save[df_gapminder_save['name'].isin(countries)]\n",
    "df_gapminder_save.to_csv('gapminder.csv')\n"
   ]
  },
  {
   "cell_type": "code",
   "execution_count": 38,
   "id": "76f0046f-e7f2-4f4e-a5f5-bdb60e4f924a",
   "metadata": {},
   "outputs": [
    {
     "name": "stdout",
     "output_type": "stream",
     "text": [
      "Number of columns: 18\n",
      "Number of rows: 13055\n"
     ]
    }
   ],
   "source": [
    "# A \n",
    "cols = df_gapminder.shape[1]\n",
    "print(\"Number of columns: \" + str(cols))\n",
    "# B\n",
    "rows = df_gapminder.shape[0]\n",
    "print(\"Number of rows: \" + str(rows))\n",
    "# C \n",
    "df_gapminder.head(5)\n",
    "df_nulls = df_gapminder.isnull().sum()\n",
    "#print(df_nulls) # to keep note that there are nulls in all columns except ISO3"
   ]
  },
  {
   "cell_type": "markdown",
   "id": "d48d3849-5abd-445b-9c75-70da586ee5dd",
   "metadata": {},
   "source": [
    "Part C: yes, it does seem reasonable. The values for each column match what the directory describes it to be; I can already observe NaN values in cells, such as childMortality"
   ]
  },
  {
   "cell_type": "markdown",
   "id": "02666661-a227-456c-aceb-3b891a9bd175",
   "metadata": {},
   "source": [
    "## Wealth\n",
    "\n",
    "*For the results, I print out the results with numbers for the corresponding question*\n",
    "\n",
    "#### 1 \n",
    "How many different countries are there in the data?"
   ]
  },
  {
   "cell_type": "code",
   "execution_count": 39,
   "id": "59e22dfd-2643-4758-9f1d-5947ffb157f6",
   "metadata": {},
   "outputs": [
    {
     "name": "stdout",
     "output_type": "stream",
     "text": [
      "Number of unique countries:250\n"
     ]
    }
   ],
   "source": [
    "list_unique = df_gapminder.name.unique() #decided to use name since used in future problems, and some iso3 have null names\n",
    "list_unique #check\n",
    "print(\"Number of unique countries:\" + str(len(list_unique)))\n",
    "# 250"
   ]
  },
  {
   "cell_type": "markdown",
   "id": "af5bc0ae-89b5-46fe-abe6-4dca937822cf",
   "metadata": {},
   "source": [
    "#### 2\n",
    "What is the earliest and the most recent year in the dataset?"
   ]
  },
  {
   "cell_type": "code",
   "execution_count": 40,
   "id": "4a18e0de-486d-452d-b932-f5533b17a20b",
   "metadata": {},
   "outputs": [
    {
     "name": "stdout",
     "output_type": "stream",
     "text": [
      "Earliest year: 1960.0\n",
      "Most recent year: 2019.0\n"
     ]
    }
   ],
   "source": [
    "year_sort = sorted(df_gapminder.time)\n",
    "year_sort #check\n",
    "print(\"Earliest year: \" + str(year_sort[0]))\n",
    "print(\"Most recent year: \" + str(year_sort[len(year_sort)-1]))"
   ]
  },
  {
   "cell_type": "markdown",
   "id": "25e781e9-f50e-402c-b0b6-1d97b4c25808",
   "metadata": {},
   "source": [
    "##### Now let’s define wealth as GDP per capita and let’s explore countries by average wealth.\n",
    "\n",
    "#### 3\n",
    "For which year do we have the most recent GDP data?  \n",
    "Hint: You can remove all missing GDP data to answer this question"
   ]
  },
  {
   "cell_type": "code",
   "execution_count": 41,
   "id": "393e9b36-ff5a-4193-8d0f-7389e5af30b8",
   "metadata": {},
   "outputs": [
    {
     "name": "stdout",
     "output_type": "stream",
     "text": [
      "           GDP_PC    time\n",
      "0             NaN  1960.0\n",
      "1             NaN  1961.0\n",
      "2             NaN  1962.0\n",
      "3             NaN  1963.0\n",
      "4             NaN  1964.0\n",
      "...           ...     ...\n",
      "13050  1234.10335  2015.0\n",
      "13051  1224.30992  2016.0\n",
      "13052  1263.32132  2017.0\n",
      "13053  1305.78329  2018.0\n",
      "13054  1183.09882  2019.0\n",
      "\n",
      "[13055 rows x 2 columns]\n"
     ]
    }
   ],
   "source": [
    "list_vars = [\"GDP_PC\", \"time\"]\n",
    "df_select_vars = df_gapminder[list_vars]\n",
    "year_GDP = df_select_vars[~df_select_vars.isnull()]\n",
    "list_noNA = df_gapminder.GDP_PC[~df_gapminder.GDP_PC.isnull()]\n",
    "#print(list_noNA)\n",
    "print(year_GDP)"
   ]
  },
  {
   "cell_type": "markdown",
   "id": "641ca602-2ac5-462c-9237-3a45d84e55d4",
   "metadata": {},
   "source": [
    "As 2019 was proven as the most recent year, 2019 has a GDP value that is not null and therefore: 2019"
   ]
  },
  {
   "cell_type": "markdown",
   "id": "23fb006c-5ec8-4add-b729-6b32dba4c6b3",
   "metadata": {},
   "source": [
    "#### 4\n",
    " What is the average wealth on this planet as of 2019? Let’s just compute average GDP across\n",
    "all countries for 2019 and ignore the fact that countries are of different size.\n",
    "\n",
    "[Citation for gdp_2019](https://stackoverflow.com/questions/59675687/pandas-get-cell-value-by-row-number-not-row-index-and-column-name)"
   ]
  },
  {
   "cell_type": "code",
   "execution_count": 42,
   "id": "54b9ea67-9341-46b6-a98e-1aecc7675f18",
   "metadata": {},
   "outputs": [
    {
     "name": "stdout",
     "output_type": "stream",
     "text": [
      "Average wealth in 2019: 15055.352217243239\n"
     ]
    }
   ],
   "source": [
    "df_year = df_select_vars.groupby(\"time\").mean()\n",
    "df_year #check\n",
    "gdp_2019 = df_year['GDP_PC'].iloc[len(df_year)-1]\n",
    "print(\"Average wealth in 2019: \" + str(gdp_2019))"
   ]
  },
  {
   "cell_type": "markdown",
   "id": "ab52eebb-7594-402e-a801-786bb690e083",
   "metadata": {},
   "source": [
    "#### 5\n",
    "But not all countries may have this final year. Which 5 countries countries have most recent\n",
    "years missing? Till which year do they have data?  \n",
    "\n",
    "Hint: you may group by country and find max value for the year. In the resulting series, find the\n",
    "min/max. Check out the nlargest method."
   ]
  },
  {
   "cell_type": "code",
   "execution_count": 43,
   "id": "5f1dad75-b422-4a2e-a8c1-ce1a818274f7",
   "metadata": {},
   "outputs": [
    {
     "name": "stdout",
     "output_type": "stream",
     "text": [
      "Countries with most recent years missing (5): \n",
      "name\n",
      "American Samoa    2018.0\n",
      "Aruba             2017.0\n",
      "Cayman Islands    2018.0\n",
      "Cuba              2018.0\n",
      "Djibouti          2010.0\n",
      "Name: time, dtype: float64\n"
     ]
    }
   ],
   "source": [
    "max_year = df_gapminder[df_gapminder.GDP_PC.isna() == False].groupby(\"name\").time.max()\n",
    "print(\"Countries with most recent years missing (5): \")\n",
    "print(max_year[max_year != 2019].head(5))"
   ]
  },
  {
   "cell_type": "markdown",
   "id": "16f23fac-27cb-4a2e-896e-e99c79c70b61",
   "metadata": {},
   "source": [
    "#### 6\n",
    " Now let’s compare the continents. We’ll do it easy again and just compute the average wealth\n",
    "(i.e. GDP) for each continent in 2019, and we use region as continent. We disregard the fact that\n",
    "countries are of different size. Print the continents, and the corresponding GDP in a decreasing\n",
    "order.  \n",
    "\n",
    "Remember to use only the most recent data!  \n",
    "\n",
    "Hint: check out methods groupby and sort_values."
   ]
  },
  {
   "cell_type": "code",
   "execution_count": 44,
   "id": "cb5826f8-82a4-407a-9d8a-8fdbcbe87ba5",
   "metadata": {},
   "outputs": [
    {
     "name": "stdout",
     "output_type": "stream",
     "text": [
      "Continents and their GDPs: \n",
      "region\n",
      "Europe      33227.983767\n",
      "Americas    14516.826303\n",
      "Asia        14116.124163\n",
      "Oceania     11817.735554\n",
      "Africa       2765.708956\n",
      "Name: GDP_PC, dtype: float64\n"
     ]
    }
   ],
   "source": [
    "df_filter_2019 = df_gapminder[df_gapminder.time == 2019]\n",
    "average_gdp_continent = df_filter_2019.groupby(\"region\").mean()\n",
    "sorted_gdp_continent = average_gdp_continent.GDP_PC.sort_values(ascending = False)\n",
    "print(\"Continents and their GDPs: \")\n",
    "print(sorted_gdp_continent)"
   ]
  },
  {
   "cell_type": "markdown",
   "id": "383816da-9d58-49a5-9252-1f74c4b85e96",
   "metadata": {},
   "source": [
    "#### 7\n",
    " But this was just about the average numbers. Now for each continent let’s also find the richest\n",
    "and poorest country, the corresponding GDP, and population (for 2019). Print these in a readable\n",
    "form.  \n",
    "\n",
    "Note: While this gives a hint about inequality, we still completely ignore the intra-county inequality.\n",
    "Quite likely the rich in the poor countries earn more than the poor in the rich countries. But these\n",
    "measures unfortunately do not let us to assess this.  \n",
    "\n",
    "Hint: while you can extract the values using construct like data.gdp == data.gdp.min(), you\n",
    "may also check out methods idxmin and idxmax. If this seems overwhelming, then just loop over\n",
    "continents, and for each continent find the richest and poorest country as of 2019 (check out methods\n",
    "nlargest and nsmallest).\n",
    " \n",
    "[Citation for loop](https://pandas.pydata.org/docs/reference/api/pandas.Series.iteritems.html)"
   ]
  },
  {
   "cell_type": "code",
   "execution_count": 45,
   "id": "99157614-222a-435b-b8ef-328ce899cee7",
   "metadata": {},
   "outputs": [
    {
     "name": "stdout",
     "output_type": "stream",
     "text": [
      "Richest Country in Africa: Equatorial Guinea\n",
      "GDP: 20532.95226\n",
      "Population: 1355986.0\n",
      "\n",
      "Richest Country in Americas: Bermuda\n",
      "GDP: 113236.09091\n",
      "Population: 64027.0\n",
      "\n",
      "Richest Country in Asia: United Arab Emirates\n",
      "GDP: 116232.75298\n",
      "Population: 9770529.0\n",
      "\n",
      "Richest Country in Europe: Monaco\n",
      "GDP: 196061.41684\n",
      "Population: 38964.0\n",
      "\n",
      "Richest Country in Oceania: Australia\n",
      "GDP: 57183.37935\n",
      "Population: 25365745.0\n",
      "\n",
      "Poorest Country in Africa: Ethiopia\n",
      "GDP: 164.3366\n",
      "Population: 112078730.0\n",
      "\n",
      "Poorest Country in Americas: Bolivia (Plurinational State of)\n",
      "GDP: 1005.40847\n",
      "Population: 11513100.0\n",
      "\n",
      "Poorest Country in Asia: China\n",
      "GDP: 132.07761\n",
      "Population: 1397715000.0\n",
      "\n",
      "Poorest Country in Europe: Bosnia and Herzegovina\n",
      "GDP: 700.70077\n",
      "Population: 3301000.0\n",
      "\n",
      "Poorest Country in Oceania: Papua New Guinea\n",
      "GDP: 1012.44119\n",
      "Population: 8776109.0\n",
      "\n"
     ]
    }
   ],
   "source": [
    "max_gdp = df_gapminder[df_gapminder.GDP_PC.isna() == False].groupby(\"region\").GDP_PC.max()\n",
    "\n",
    "for index, value in max_gdp.items():\n",
    "    loc_row_max = df_gapminder.loc[df_gapminder['GDP_PC'] == value]\n",
    "    country = loc_row_max['name'].item()\n",
    "    print(\"Richest Country in \" + str(index) + \": \" + str(country))\n",
    "    print(\"GDP: \" + str(loc_row_max['GDP_PC'].item()))\n",
    "    get_country = df_gapminder[df_gapminder.name == country]\n",
    "    print(\"Population: \" + str(get_country.totalPopulation[get_country.time == 2019.0].item()))\n",
    "    print()\n",
    "    \n",
    "min_gdp = df_gapminder[df_gapminder.GDP_PC.isna() == False].groupby(\"region\").GDP_PC.min()\n",
    "\n",
    "for index, value in min_gdp.items():\n",
    "    loc_row_min = df_gapminder.loc[df_gapminder['GDP_PC'] == value]\n",
    "    country = loc_row_min['name'].item()\n",
    "    print(\"Poorest Country in \" + str(index) + \": \" + str(country))\n",
    "    print(\"GDP: \" + str(loc_row_min['GDP_PC'].item()))\n",
    "    get_country = df_gapminder[df_gapminder.name == country]\n",
    "    print(\"Population: \" + str(get_country.totalPopulation[get_country.time == 2019.0].item()))\n",
    "    print()"
   ]
  },
  {
   "cell_type": "markdown",
   "id": "73f3b617-1c18-4e05-bb55-cb9bc0ec59da",
   "metadata": {},
   "source": [
    "#### 8 \n",
    "Comment the list of poorest and richest countries. What do you think about these lists. Did\n",
    "you know that Bermuda is the richest country in Americas? Do you know why? Why do most of\n",
    "the rich countries have small population?"
   ]
  },
  {
   "cell_type": "code",
   "execution_count": 46,
   "id": "791b621e-a48b-4353-b033-1d1c79710b96",
   "metadata": {},
   "outputs": [],
   "source": [
    "#Richest in Africa: Equatorial Guinea\n",
    "#Richest in Americas: Bermuda\n",
    "#Richest in Asia: United Arab Emirates\n",
    "#Richest in Europe: Monaco\n",
    "#Richest in Oceania: Australia\n",
    "\n",
    "#Poorest in Africa: Ethiopia\n",
    "#Poorest in Americas: Bolivia (Plurinational State of)\n",
    "#Poorest in Asia: China\n",
    "#Poorest in Europe: Bosnia and Herzegovina\n",
    "#Poorest in Oceania: Papua New Guinea"
   ]
  },
  {
   "cell_type": "markdown",
   "id": "60cc0148-8fed-42f5-8de9-9b80bed3645c",
   "metadata": {},
   "source": [
    "I did not know the richest country in the Americas was Bermuda. After talking to my sister, however, I found out that businesses desire to have residency or operations there. Austrailia and Ethiopua made sense to me, but China had me very surprised at first. However, if I were to think of it like my reasoning below, it would make sense that there are huge disparities within regions in China which would lower the GDP significantly.  \n",
    "I believe that the richest countries tend to have smaller population because that gives a less of a chance to have variability, such as the US: because there is so many people over so large of land, with the nature of our states and state vs federal laws, it is very easy to find huge differences in income and capital even when comparing state to state in the US. "
   ]
  },
  {
   "cell_type": "markdown",
   "id": "d0169b6e-3609-47a6-90a2-22b2d20897e1",
   "metadata": {},
   "source": [
    "## Health\n",
    "\n",
    "Health is a complex concept, but fortunately we can proxy health with life expectancy (LE). It is a natural\n",
    "index of health that has been measured rather well for a long time already.\n",
    "\n",
    "\n",
    "#### 1 \n",
    "For how many countries we do not have LE for 1960 and 2019?"
   ]
  },
  {
   "cell_type": "code",
   "execution_count": 47,
   "id": "c7e8f37d-4ba5-42b2-ba14-8d781c680047",
   "metadata": {},
   "outputs": [
    {
     "name": "stdout",
     "output_type": "stream",
     "text": [
      "None for 2019:\n",
      "name\n",
      "Cayman Islands      2010.0\n",
      "Dominica            2002.0\n",
      "Greenland           2017.0\n",
      "Marshall Islands    2000.0\n",
      "Palau               2005.0\n",
      "Name: time, dtype: float64\n",
      "\n",
      "None for 1960:\n",
      "name\n",
      "Bermuda           1965.0\n",
      "Cayman Islands    2010.0\n",
      "Dominica          1982.0\n",
      "Faroe Islands     1973.0\n",
      "Greenland         1978.0\n",
      "Name: time, dtype: float64\n"
     ]
    }
   ],
   "source": [
    "max_year_LE = df_gapminder[df_gapminder.lifeExpectancy.isna() == False].groupby(\"name\").time.max()\n",
    "print(\"None for 2019:\")\n",
    "print(max_year_LE[max_year_LE != 2019].head())\n",
    "\n",
    "min_year_LE = df_gapminder[df_gapminder.lifeExpectancy.isna() == False].groupby(\"name\").time.min()\n",
    "print(\"\\nNone for 1960:\")\n",
    "print(min_year_LE[min_year_LE != 1960].head())"
   ]
  },
  {
   "cell_type": "markdown",
   "id": "be1777e1-1cea-4f88-b4de-2d4857c2fa06",
   "metadata": {},
   "source": [
    "#### 2\n",
    "\n",
    " What is the lowest and highest LE in data? Which years/countries does this correspond?\n"
   ]
  },
  {
   "cell_type": "code",
   "execution_count": 48,
   "id": "3623aa61-b696-41b9-9e3a-8fdc4b3e4cf5",
   "metadata": {},
   "outputs": [
    {
     "name": "stdout",
     "output_type": "stream",
     "text": [
      "Highest LE: 85.41707\n",
      "Corresponding Year: 2012\n",
      "Correpsonding Country: San Marino\n",
      "\n",
      "Lowest LE: 18.907\n",
      "Corresponding Year: 1977\n",
      "Correpsonding Country: Cambodia\n"
     ]
    }
   ],
   "source": [
    "highest_LE = df_gapminder[df_gapminder.lifeExpectancy == df_gapminder.lifeExpectancy.max()]\n",
    "print(\"Highest LE: \" + str(highest_LE.lifeExpectancy.item()))\n",
    "print(\"Corresponding Year: \" + str(int(highest_LE.time.item())))\n",
    "print(\"Correpsonding Country: \" + str(highest_LE.name.item()))\n",
    "lowest_LE = df_gapminder[df_gapminder.lifeExpectancy == df_gapminder.lifeExpectancy.min()]\n",
    "print(\"\\nLowest LE: \" + str(lowest_LE.lifeExpectancy.item()))\n",
    "print(\"Corresponding Year: \" + str(int(lowest_LE.time.item())))\n",
    "print(\"Correpsonding Country: \" + str(lowest_LE.name.item()))"
   ]
  },
  {
   "cell_type": "markdown",
   "id": "81f73d0d-3208-4020-b1d3-efbed5540d2b",
   "metadata": {},
   "source": [
    "#### 3\n",
    " If you did this correctly, you notice that the shortest LE is less than 20 years. What historical\n",
    "events does it correspond to? (You may consult e.g. Wikipedia)."
   ]
  },
  {
   "cell_type": "markdown",
   "id": "103d77bb-01d3-4b04-b2da-bbb93635688f",
   "metadata": {},
   "source": [
    "Ans: When looking up Cambodia and 1977, it was in the middle of a periodic Cambodian genocide: it was easy to then explain the low life expectancy given the nature of what occurs during a genocide."
   ]
  },
  {
   "cell_type": "markdown",
   "id": "1cc4e825-07e9-4e2e-8198-bb0a9c3d99d8",
   "metadata": {},
   "source": [
    "#### 4\n",
    "\n",
    " Find the country with longest and shortest LE for each continent.\n",
    "\n",
    "[Cite join in if/else](https://www.geeksforgeeks.org/join-function-python/)"
   ]
  },
  {
   "cell_type": "code",
   "execution_count": 49,
   "id": "b5cf4031-7444-4ee1-969c-057242ec5648",
   "metadata": {},
   "outputs": [
    {
     "name": "stdout",
     "output_type": "stream",
     "text": [
      "Country with longest LE in Africa: Algeria\n",
      "Country with longest LE in Americas: Cayman Islands\n",
      "Country with longest LE in Asia: Hong Kong\n",
      "Country with longest LE in Europe: San Marino\n",
      "Country with longest LE in Oceania: Australia\n",
      "\n",
      "Country with shortest LE in Africa: Rwanda\n",
      "Country with shortest LE in Americas: Haiti\n",
      "Country with shortest LE in Asia: Cambodia\n",
      "Country with shortest LE in Europe: Bosnia and Herzegovina & South Africa\n",
      "Country with shortest LE in Oceania: Papua New Guinea\n"
     ]
    }
   ],
   "source": [
    "longest_LE = df_gapminder[df_gapminder.lifeExpectancy.isna() == False].groupby(\"region\").lifeExpectancy.max()\n",
    "\n",
    "for index, value in longest_LE.items():\n",
    "    loc_row_longest = df_gapminder.loc[df_gapminder['lifeExpectancy'] == value]\n",
    "    country = loc_row_longest['name'].item()\n",
    "    print(\"Country with longest LE in \" + str(index) + \": \" + str(country))\n",
    "\n",
    "print()\n",
    "    \n",
    "shortest_LE = df_gapminder[df_gapminder.lifeExpectancy.isna() == False].groupby(\"region\").lifeExpectancy.min()\n",
    "\n",
    "for index, value in shortest_LE.items():\n",
    "    loc_row_shortest = df_gapminder.loc[df_gapminder['lifeExpectancy'] == value]\n",
    "    if len(loc_row_shortest['name']) == 1:\n",
    "        country = loc_row_shortest['name'].item()\n",
    "    else:\n",
    "        x = \" & \"\n",
    "        country = x.join(loc_row_shortest['name'])\n",
    "    print(\"Country with shortest LE in \" + str(index) + \": \" + str(country))"
   ]
  },
  {
   "cell_type": "markdown",
   "id": "437d4325-9a74-4280-af90-8456acc719ea",
   "metadata": {},
   "source": [
    "#### 5\n",
    "\n",
    "Which countries had the fastest and slowest growth rate of LE? You can compute the growth\n",
    "rate (pct per year) as  \n",
    "g = 100 [(LE1/LE0)^(1/n)− 1]  \n",
    "where LE0 is the life expectancy at the beginning of the period, LE1 is it at the end of the period,\n",
    "and n is the length of the period in years.  \n",
    "\n",
    "Hint: for each country, compute the first valid year of life expectancy, last valid year of life ex\u0002pectancy, and find their life expectancies for the corresponding years. If the result is a series, just\n",
    "order it, if it is not a series, make it into a series and order it\n",
    "\n",
    "*slowest growth is not the min (-), but the value closest to 0*"
   ]
  },
  {
   "cell_type": "code",
   "execution_count": 50,
   "id": "21fde920-c23f-4a85-b2a6-6c4893de4b8a",
   "metadata": {},
   "outputs": [
    {
     "name": "stdout",
     "output_type": "stream",
     "text": [
      "Marshall Islands   -0.770640\n",
      "Cayman Islands      0.000000\n",
      "San Marino          0.000000\n",
      "Palau               0.005789\n",
      "Ukraine             0.085396\n",
      "                      ...   \n",
      "Timor-Leste         1.232786\n",
      "Bhutan              1.248151\n",
      "Mali                1.268013\n",
      "Maldives            1.276385\n",
      "Yemen               1.353232\n",
      "Length: 204, dtype: float64\n",
      "\n",
      "Slowest growth rate: Marshall Islands\n",
      "Fastest growth rate: Yemen\n"
     ]
    }
   ],
   "source": [
    "warnings.filterwarnings('ignore') #is this ok? would get \"RuntimeWarning: divide by zero encountered in double_scalars\"\n",
    "def growth_rate(le_0, le_1, n):\n",
    "    return (100.0*(((le_1/le_0)**(1.0/n))-1.0))\n",
    "\n",
    "longest_year_country = df_gapminder[df_gapminder.lifeExpectancy.isna() == False].groupby(\"name\").time.max()\n",
    "shortest_year_country = df_gapminder[df_gapminder.lifeExpectancy.isna() == False].groupby(\"name\").time.min()\n",
    "\n",
    "dict_growth_rate = {}\n",
    "\n",
    "for country, value in longest_year_country.items(): \n",
    "    country_year_longest = longest_year_country[country]\n",
    "    country_year_shortest = shortest_year_country[country]\n",
    "    n = country_year_longest - country_year_shortest\n",
    "    filter_country = df_gapminder[df_gapminder.name == country]\n",
    "    country_early_LE = filter_country.lifeExpectancy[filter_country.time == country_year_shortest]\n",
    "    country_late_LE = filter_country.lifeExpectancy[filter_country.time == country_year_longest]\n",
    "    dict_growth_rate[country] =  growth_rate(country_early_LE.item(), country_late_LE.item(), n)  \n",
    "    \n",
    "series_growth_rate = pd.Series(dict_growth_rate)\n",
    "print(series_growth_rate.sort_values(ascending = True))\n",
    "\n",
    "short_countr = str(min(dict_growth_rate, key=dict_growth_rate.get))\n",
    "long_countr = str(max(dict_growth_rate, key=dict_growth_rate.get))\n",
    "\n",
    "print(\"\\nSlowest growth rate: \" + short_countr) \n",
    "print(\"Fastest growth rate: \" + long_countr)"
   ]
  },
  {
   "cell_type": "markdown",
   "id": "dd581179-e238-425c-8ab4-899c3003f07e",
   "metadata": {},
   "source": [
    "#### 6\n",
    " Do you see a pattern (or multiple patterns) here? Remember: you are looking at growth of\n",
    "life expectancy over an extended period."
   ]
  },
  {
   "cell_type": "code",
   "execution_count": 51,
   "id": "035c501c-e528-485c-a21b-58c8fc308d07",
   "metadata": {},
   "outputs": [
    {
     "name": "stdout",
     "output_type": "stream",
     "text": [
      "\n",
      "Countries with large rates (>1): \n",
      "\n",
      "Afghanistan\n",
      "Bhutan\n",
      "Gambia\n",
      "Liberia\n",
      "Maldives\n",
      "Mali\n",
      "Nepal\n",
      "Oman\n",
      "South Sudan\n",
      "Timor-Leste\n",
      "Tunisia\n",
      "Yemen\n",
      "\n",
      "Countries with small rates (<.2): \n",
      "\n",
      "Belarus\n",
      "Bulgaria\n",
      "Cayman Islands\n",
      "Czechia\n",
      "Denmark\n",
      "Fiji\n",
      "Hungary\n",
      "Iceland\n",
      "Latvia\n",
      "Lithuania\n",
      "Marshall Islands\n",
      "Netherlands\n",
      "Palau\n",
      "Russian Federation\n",
      "San Marino\n",
      "Seychelles\n",
      "Slovakia\n",
      "Ukraine\n"
     ]
    }
   ],
   "source": [
    "dict_large = {}\n",
    "for key, value in dict_growth_rate.items():\n",
    "    if value > 1:\n",
    "        dict_large[key] = value\n",
    "print(\"\\nCountries with large rates (>1): \\n\")\n",
    "for key in dict_large:\n",
    "    print(key)\n",
    "\n",
    "dict_small = {}\n",
    "for key, value in dict_growth_rate.items():\n",
    "    if value < .2:\n",
    "        dict_small[key] = value\n",
    "print(\"\\nCountries with small rates (<.2): \\n\")\n",
    "for key in dict_small:\n",
    "    print(key)"
   ]
  },
  {
   "cell_type": "markdown",
   "id": "0475f5a7-b6c2-47cf-8af3-eae67cf18ad8",
   "metadata": {},
   "source": [
    "Patterns: most of the large rates of growth occur in Eurasia, while the smaller rates occur in Europe speficially or in island countries"
   ]
  },
  {
   "cell_type": "markdown",
   "id": "8ce17675-a947-4f77-8683-3980c5c26231",
   "metadata": {},
   "source": [
    "#### 7\n",
    " Now pick the top and bottom countries in terms of life expectancy growth you identified above,\n",
    "and make a plot where you show how life expectancy has changed over time in these two countries."
   ]
  },
  {
   "cell_type": "code",
   "execution_count": 52,
   "id": "10c43b90-055c-4ec4-8ee2-4f31dbb82659",
   "metadata": {},
   "outputs": [
    {
     "data": {
      "image/png": "[encoded data removed]",
      "text/plain": [
       "<Figure size 432x288 with 1 Axes>"
      ]
     },
     "metadata": {
      "needs_background": "light"
     },
     "output_type": "display_data"
    }
   ],
   "source": [
    "shortest_min_year = shortest_year_country[short_countr]\n",
    "shortest_max_year = longest_year_country[short_countr]\n",
    "longest_min_year = shortest_year_country[long_countr]\n",
    "longest_max_year = longest_year_country[long_countr]\n",
    "\n",
    "def get_y(country, year_min, year_max):\n",
    "    y = []\n",
    "    filter_country = df_gapminder[df_gapminder.name == country]\n",
    "    for year in range(int(year_min), int(year_max)+1):\n",
    "        get_le = filter_country.lifeExpectancy[filter_country.time == year]\n",
    "        y.append(get_le)\n",
    "    return y\n",
    "\n",
    "y_1 = get_y(short_countr, shortest_min_year, shortest_max_year)\n",
    "y_2 = get_y(long_countr, longest_min_year, longest_max_year)\n",
    "\n",
    "x_1 = list(range(1987, 2001))\n",
    "x_2= list(range(1960, 2020))\n",
    "plt.scatter(x_2,y_2, color = 'r') \n",
    "plt.plot(x_2,y_2, color = 'b') \n",
    "plt.scatter(x_1,y_1, color = 'y') \n",
    "plt.plot(x_1,y_1, color = 'g') \n",
    "plt.xlabel(\"Year (years)\")\n",
    "plt.ylabel(\"Live Expectancy (years)\")\n",
    "plt.title(\"Life Expectancy over the years\")\n",
    "plt.legend({short_countr,long_countr})\n",
    "plt.show()"
   ]
  },
  {
   "cell_type": "markdown",
   "id": "5c59a935-7165-45dd-9036-f12e27064991",
   "metadata": {},
   "source": [
    "At first I had the slowest to be the two countries that have 0 growth, both because they only had one value for life expectancy. However, I realized that would not say much (when Marshal Islands already had so little data as well). It would also make sense to agrue that, though comparing with magnitude, it is not the smallest, it is the slowest to grow as it is actually shrinking.  \n",
    "\n",
    "Marshall Islands decreasing could be beacuse of health issues as cited in the insturctions and Wikipedia, but also because of [U.S. nuclear weapon testing on the islands, Dengue fever outbreaks, and hard to access health care.](https://borgenproject.org/life-expectancy-in-the-marshall-islands/) As for Yemen, organizations like [IRC, YRRF and other NGO](https://borgenproject.org/10-facts-about-life-expectancy-in-yemen/) contributed positive change in schools, medical treatment, nutrition/malnutrition, etc."
   ]
  },
  {
   "cell_type": "markdown",
   "id": "0727a814-d8ac-48ef-9ac2-8af96858168c",
   "metadata": {},
   "source": [
    "## Gender Disparities \n",
    "\n",
    "#### 1\n",
    "\n",
    "How many valid male/female youth literacy rate values do we have? How many are missing?\n",
    "\n",
    "*Same missing and valid counts for female and male, confirming that the values come as pairs*"
   ]
  },
  {
   "cell_type": "code",
   "execution_count": 53,
   "id": "887a9aeb-db88-4841-8ef0-47091ecda0b9",
   "metadata": {},
   "outputs": [
    {
     "name": "stdout",
     "output_type": "stream",
     "text": [
      "# missing for females: 12134\n",
      "# missing for males: 12134\n",
      "# valid for females: 921\n",
      "# valid for males: 921\n"
     ]
    }
   ],
   "source": [
    "valid_lit_f = df_gapminder[df_gapminder.youthFemaleLiteracy.isna() == False]\n",
    "valid_lit_m = df_gapminder[df_gapminder.youthMaleLiteracy.isna() == False]\n",
    "nulls_f = df_gapminder.youthFemaleLiteracy.isnull().sum()\n",
    "nulls_m = df_gapminder.youthMaleLiteracy.isnull().sum()\n",
    "print(\"# missing for females: \" + str(nulls_f))\n",
    "print(\"# missing for males: \" + str(nulls_m))\n",
    "print(\"# valid for females: \" + str(len(valid_lit_f)))\n",
    "print(\"# valid for males: \" + str(len(valid_lit_m)))"
   ]
  },
  {
   "cell_type": "markdown",
   "id": "bf5897ea-e713-4741-bb9a-fb7cc3507daa",
   "metadata": {},
   "source": [
    "#### 2\n",
    "\n",
    " How many missing cases do we have by year? How does the data quality change over years?\n",
    "Make plot to demonstrate this!\n",
    "\n",
    "Hint: you can get this done using .apply method, but if you feel this overwhelming use loops:\n",
    "create an empty list, loop over all years, and for each year filter the data and add the number of\n",
    "missings to the list.\n"
   ]
  },
  {
   "cell_type": "code",
   "execution_count": 54,
   "id": "a658eb9b-4d2c-417b-83ac-bef51f6882ca",
   "metadata": {},
   "outputs": [
    {
     "data": {
      "image/png": "[encoded data removed]",
      "text/plain": [
       "<Figure size 432x288 with 1 Axes>"
      ]
     },
     "metadata": {
      "needs_background": "light"
     },
     "output_type": "display_data"
    }
   ],
   "source": [
    "x = list(range(1960, 2020))\n",
    "y_f = [];\n",
    "y_m = [];\n",
    "for year in range(1960, 2020):\n",
    "    df_filter_year = df_gapminder[df_gapminder.time == year]\n",
    "    count_null_f = df_filter_year.youthFemaleLiteracy.isnull().sum()\n",
    "    count_null_m = df_filter_year.youthMaleLiteracy.isnull().sum()\n",
    "    y_f.append(count_null_f)\n",
    "    y_m.append(count_null_m)\n",
    "    \n",
    "plt.plot(x,y_f, color = 'b') \n",
    "plt.plot(x,y_m, color = 'r') \n",
    "plt.xlabel(\"Year (years)\")\n",
    "plt.ylabel(\"# missing cases (count)\")\n",
    "plt.title(\"Mising Cases of Literacy\")\n",
    "plt.show()"
   ]
  },
  {
   "cell_type": "markdown",
   "id": "4c0ed0f5-478c-4501-ab59-9a7049a31174",
   "metadata": {},
   "source": [
    "As seen from the graph and list printed (in order from 1960-2019), the same # missing is the same for female and male. Over time, the number of missing cases decreases with some spikes here and there (with the expection of a huge one at 2019). This would reflect the greater accessability we have to such data with technology. "
   ]
  },
  {
   "cell_type": "markdown",
   "id": "ca3df75f-ca8a-4c5e-b06c-18ef9115a50e",
   "metadata": {},
   "source": [
    "#### 3\n",
    "\n",
    "How has the world gender disparity developed through years? This time compute the weighted\n",
    "average where weights are the corresponding total population size (well, should use the corresponding\n",
    "gender/age group size but let’s stay simple).  \n",
    "\n",
    "Hint: you can do it like this:  \n",
    "(a) Select only cases where literacy data is not missing  \n",
    "(b) For each year, compute the total world population (you can just add new variables to the data\n",
    "frame).  \n",
    "(c) For each country-year (i.e. each observation), compute the country population times literacy\n",
    "for both males, females; and divide this by world population.  \n",
    "(d) Now group the above by year and sum. This is the weighted average.  \n",
    "\n",
    "[Cite making df from lists](https://stackoverflow.com/questions/30522724/take-multiple-lists-into-dataframe)"
   ]
  },
  {
   "cell_type": "code",
   "execution_count": 55,
   "id": "aaa3fbbb-da07-45af-b49f-396701add614",
   "metadata": {},
   "outputs": [],
   "source": [
    "# A\n",
    "lit_f_for_disp = valid_lit_f.sort_values('time') # from probelm 1 in this section\n",
    "lit_m_for_disp = valid_lit_m.sort_values('time')\n",
    "# B\n",
    "total_pop_year = valid_lit_f.groupby(\"time\").totalPopulation.sum()\n",
    "\n",
    "# C\n",
    "weighted_f = []\n",
    "weighted_m = []\n",
    "disp = []\n",
    "lit_f = list(lit_f_for_disp.youthFemaleLiteracy)\n",
    "lit_m = list(lit_m_for_disp.youthMaleLiteracy)\n",
    "countr_pop = list(lit_f_for_disp.totalPopulation)\n",
    "curr_year = list(lit_f_for_disp.time)\n",
    "country = list(lit_f_for_disp.name)\n",
    "\n",
    "for i in range(0, len(lit_f)):\n",
    "    tot_pop = total_pop_year.get(key = curr_year[i])\n",
    "    avg_f = (countr_pop[i]*lit_f[i])/tot_pop\n",
    "    avg_m = (countr_pop[i]*lit_m[i])/tot_pop\n",
    "    weighted_f.append(avg_f)\n",
    "    weighted_m.append(avg_m)\n",
    "    disp.append(avg_m-avg_f)\n",
    "    \n",
    "df_weight_disp = pd.DataFrame(list(zip(curr_year, country, weighted_f, weighted_m, disp)),\n",
    "               columns =['year', 'country', 'weightedFemale', 'weightedMale', 'disparity'])\n",
    "\n",
    "# D\n",
    "df_weight_disp_year = df_weight_disp.groupby('year').sum()"
   ]
  },
  {
   "cell_type": "markdown",
   "id": "0b8738fc-6d26-4412-9a2c-b8c94775eb3a",
   "metadata": {},
   "source": [
    "#### 4\n",
    "\n",
    " Make a plot that shows how has the disparity changed over time."
   ]
  },
  {
   "cell_type": "code",
   "execution_count": 56,
   "id": "1f353420-1b60-4f0a-a0cb-6954196ddde5",
   "metadata": {},
   "outputs": [
    {
     "data": {
      "image/png": "[encoded data removed]",
      "text/plain": [
       "<Figure size 432x288 with 1 Axes>"
      ]
     },
     "metadata": {
      "needs_background": "light"
     },
     "output_type": "display_data"
    },
    {
     "data": {
      "image/png": "[encoded data removed]",
      "text/plain": [
       "<Figure size 432x288 with 1 Axes>"
      ]
     },
     "metadata": {
      "needs_background": "light"
     },
     "output_type": "display_data"
    }
   ],
   "source": [
    "x_disp = (df_weight_disp_year.index.values.tolist())\n",
    "\n",
    "plt.plot(x_disp,df_weight_disp_year.weightedFemale, color = 'b') # use x from previous section as it is the same axis\n",
    "plt.plot(x_disp,df_weight_disp_year.weightedMale, color = 'r') # use x from previous section as it is the same axis\n",
    "plt.xlabel(\"Year (years)\")\n",
    "plt.ylabel(\"Weighted average\")\n",
    "plt.title(\"Literacy rate by gender\")\n",
    "plt.legend({\"Female\",\"Male\"})\n",
    "plt.figure()\n",
    "plt.plot(x_disp, df_weight_disp_year.disparity)\n",
    "plt.xlabel(\"Year (years)\")\n",
    "plt.ylabel(\"Disparity\")\n",
    "plt.title(\"Literacy rate Disparity\")\n",
    "plt.show()"
   ]
  },
  {
   "cell_type": "markdown",
   "id": "c17eced3-47af-4933-831a-427f7177a2b4",
   "metadata": {},
   "source": [
    "#### 5\n",
    "\n",
    " If your result is like mine, you see that the disparity is volatile, and fluctuating b/w 0 and 25\n",
    "pct pt, mostly in favor of males. However, the trend is clearly downward.  \n",
    "Does this result indicate that gender disparity is an issue that the world in recent years has mostly\n",
    "overcome?"
   ]
  },
  {
   "cell_type": "markdown",
   "id": "5d1fc374-4783-43bd-8135-0ec609362723",
   "metadata": {},
   "source": [
    "Ans: The results that are like the directions is the first plot, with two lines for each gender. The trned being clearly downwards is more obvious in the second plot, where it is the weighted averages subtracted (male-female). Although the issue is improving in recent years, with my own biased opinion I do not think it the issue has been overcome. There is still disparity present, and would most likely be very different if we were to split it up per country rather than a global average. "
   ]
  },
  {
   "cell_type": "markdown",
   "id": "66c42d8d-3d62-4e54-a258-53543f85a589",
   "metadata": {},
   "source": [
    "#### 6\n",
    "\n",
    "Find the countries with the disparity more than 5%, in favor of either boys or girls, as of 2018.\n",
    "What are these places? Do you know why some of those are in this list?\n",
    "\n",
    "[Cite apply](https://thispointer.com/pandas-apply-a-function-to-single-or-selected-columns-or-rows-in-dataframe/)"
   ]
  },
  {
   "cell_type": "code",
   "execution_count": 57,
   "id": "67cc20b1-4a02-490f-bab4-0a7aa04262d3",
   "metadata": {},
   "outputs": [
    {
     "name": "stdout",
     "output_type": "stream",
     "text": [
      "Countries with more than 5% disparity for either boys or girls as of 2018: \n",
      "\n",
      "842          Nigeria\n",
      "851      Afghanistan\n",
      "867       Bangladesh\n",
      "887            India\n",
      "895             Mali\n",
      "898            Niger\n",
      "902    Côte d'Ivoire\n",
      "920       Bangladesh\n",
      "Name: country, dtype: object\n"
     ]
    }
   ],
   "source": [
    "disp_2018 = df_weight_disp[df_weight_disp.year >= 2018]\n",
    "abs_disp = disp_2018.apply(lambda x: np.abs(x) if x.name == 'disparity' else x)\n",
    "countries_5_percent = abs_disp.country[abs_disp.disparity > 0.05]\n",
    "print(\"Countries with more than 5% disparity for either boys or girls as of 2018: \\n\")\n",
    "print(countries_5_percent)"
   ]
  },
  {
   "cell_type": "markdown",
   "id": "af48b095-4b5f-4d39-82bd-a8459f235f33",
   "metadata": {},
   "source": [
    "Many of these countries are in Eurasia and have historically had general disparities in education for women and men (which still exist to an extent, which would explain why they are in 2018-2019). Because there is a direct relationship of literacy with education accessability/quality, that relationship would explain why such a disparity in the dataset."
   ]
  },
  {
   "cell_type": "markdown",
   "id": "5e35e3bb-57d2-4f62-93bd-23566b374d69",
   "metadata": {},
   "source": [
    "#### 7\n",
    " What are the 10 countries with larges disparity in favor of girls?"
   ]
  },
  {
   "cell_type": "code",
   "execution_count": 58,
   "id": "93c1f93a-03d0-4101-976c-fe755b3c4584",
   "metadata": {},
   "outputs": [
    {
     "name": "stdout",
     "output_type": "stream",
     "text": [
      "Top 10 countries with disparities that favor women: \n",
      "\n",
      "666                                      Palau\n",
      "463                        Palestine, State of\n",
      "41                                       Palau\n",
      "883                                      Tonga\n",
      "546                                      Tonga\n",
      "451    Korea (Democratic People's Republic of)\n",
      "894                      Sao Tome and Principe\n",
      "567                                      Macao\n",
      "279                          Brunei Darussalam\n",
      "600                                    Estonia\n",
      "Name: country, dtype: object\n"
     ]
    }
   ],
   "source": [
    "country_women_favor = df_weight_disp[df_weight_disp.disparity < 0].sort_values('disparity', ascending = False)\n",
    "print(\"Top 10 countries with disparities that favor women: \\n\")\n",
    "print(country_women_favor.country.head(10))"
   ]
  },
  {
   "cell_type": "markdown",
   "id": "580d8515-771d-4506-9615-148c808a3a00",
   "metadata": {},
   "source": [
    "## Time Spent: \n",
    "\n",
    "Over the course of two days: ~11 hours"
   ]
  }
 ],
 "metadata": {
  "kernelspec": {
   "display_name": "Python 3",
   "language": "python",
   "name": "python3"
  },
  "language_info": {
   "codemirror_mode": {
    "name": "ipython",
    "version": 3
   },
   "file_extension": ".py",
   "mimetype": "text/x-python",
   "name": "python",
   "nbconvert_exporter": "python",
   "pygments_lexer": "ipython3",
   "version": "3.8.8"
  }
 },
 "nbformat": 4,
 "nbformat_minor": 5
}
