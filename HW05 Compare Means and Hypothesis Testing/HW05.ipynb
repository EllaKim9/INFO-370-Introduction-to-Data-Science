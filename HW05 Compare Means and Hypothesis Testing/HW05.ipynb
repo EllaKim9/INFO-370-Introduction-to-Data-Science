{
 "cells": [
  {
   "cell_type": "markdown",
   "id": "01bf21bf-0f2e-44cb-8c36-56bc1d0b39d4",
   "metadata": {},
   "source": [
    "# Info 370 HW 05\n",
    "\n",
    "Name: Ella Kim   \n",
    "\n",
    "*Citations are hyperlinked*\n",
    "\n",
    "## Is Beijing more expensive than Seattle?\n",
    "#### 1"
   ]
  },
  {
   "cell_type": "code",
   "execution_count": 131,
   "id": "0b0f612c-706a-4b51-9063-79c0ca746045",
   "metadata": {},
   "outputs": [
    {
     "name": "stdout",
     "output_type": "stream",
     "text": [
      "Number of columns: 2\n",
      "Number of rows: 995\n",
      "\n",
      "Number of nulls in each column: \n",
      "city     0\n",
      "price    0\n",
      "dtype: int64\n"
     ]
    }
   ],
   "source": [
    "#imports\n",
    "import pandas as pd\n",
    "import numpy as np\n",
    "import matplotlib.pyplot as plt\n",
    "import math\n",
    "from scipy.stats import ttest_ind\n",
    "\n",
    "#load in data\n",
    "df_bs_abnb = pd.read_csv('/home/jovyan/lost+found/INFO_370/beijing-seattle-airbnb-price.csv.bz2', sep=\"\\t\", usecols = [\"city\", \"price\"])\n",
    "\n",
    "#sanity checks\n",
    "# print # cols\n",
    "cols = df_bs_abnb.shape[1]\n",
    "print(\"Number of columns: \" + str(cols))\n",
    "# print # rows\n",
    "rows = df_bs_abnb.shape[0]\n",
    "print(\"Number of rows: \" + str(rows))\n",
    "df_bs_abnb.head(5) #sanity check\n",
    "# make df of total count of nulls in each col & print results\n",
    "df_nulls = df_bs_abnb.isnull().sum()\n",
    "print(\"\\nNumber of nulls in each column: \\n\" + str(df_nulls))"
   ]
  },
  {
   "cell_type": "markdown",
   "id": "d1dd4edd-e61c-4937-976a-9423eb801712",
   "metadata": {
    "tags": []
   },
   "source": [
    "#### 2"
   ]
  },
  {
   "cell_type": "code",
   "execution_count": 132,
   "id": "f187275c-6395-4b6f-89fb-9967037a7066",
   "metadata": {},
   "outputs": [
    {
     "name": "stdout",
     "output_type": "stream",
     "text": [
      "Seattle summary statistics: \n",
      "\n",
      "Mean: 210.64661654135338\n",
      "Median: 149.0\n",
      "Standard Deviation: 244.3357941629997\n",
      "Range: 972\n",
      "\n",
      "Beijing summary statistics: \n",
      "\n",
      "Mean: 365.2921810699589\n",
      "Median: 296.0\n",
      "Standard Deviation: 274.22086621736156\n",
      "Range: 4020\n",
      "\n"
     ]
    }
   ],
   "source": [
    "# filter for separate data sets for each city\n",
    "df_seattle = df_bs_abnb[df_bs_abnb.city == \"Seattle\"]\n",
    "df_beijing = df_bs_abnb[df_bs_abnb.city == \"Beijing\"]\n",
    "\n",
    "# define a function to print summary statistics (just for efficiency)\n",
    "def printStats(df):\n",
    "    print(\"\\nMean: \" + str(df.price.mean()))\n",
    "    print(\"Median: \" + str(df.price.median()))\n",
    "    print(\"Standard Deviation: \" + str(df.price.std()))\n",
    "    print(\"Range: \" + str(df.price.max() - df.price.min()) + \"\\n\")\n",
    "\n",
    "# compute summary statistics\n",
    "print(\"Seattle summary statistics: \")\n",
    "printStats(df_seattle)\n",
    "print(\"Beijing summary statistics: \")\n",
    "printStats(df_beijing)"
   ]
  },
  {
   "cell_type": "markdown",
   "id": "10c6d98f-91f1-485f-9cc7-b8b7f3402b47",
   "metadata": {},
   "source": [
    "For how different the ranges are, the standard deviations are similar, and just from these statistics one would say that it is more expensive to live in Beijing, as the mean and medians are much higher for Beijing. "
   ]
  },
  {
   "cell_type": "markdown",
   "id": "89f38062-273c-42d6-ae1f-7b7f15c81ec3",
   "metadata": {},
   "source": [
    "#### 3"
   ]
  },
  {
   "cell_type": "code",
   "execution_count": 133,
   "id": "0185b597-6c59-4562-a51a-94606d915db6",
   "metadata": {},
   "outputs": [
    {
     "name": "stdout",
     "output_type": "stream",
     "text": [
      "Seattle prices: \n"
     ]
    },
    {
     "data": {
      "image/png": "[encoded data removed]",
      "text/plain": [
       "<Figure size 432x288 with 1 Axes>"
      ]
     },
     "metadata": {
      "needs_background": "light"
     },
     "output_type": "display_data"
    },
    {
     "name": "stdout",
     "output_type": "stream",
     "text": [
      "Seattle ln prices\n"
     ]
    },
    {
     "data": {
      "image/png": "[encoded data removed]",
      "text/plain": [
       "<Figure size 432x288 with 1 Axes>"
      ]
     },
     "metadata": {
      "needs_background": "light"
     },
     "output_type": "display_data"
    }
   ],
   "source": [
    "# plot Seattle price and log_price\n",
    "print(\"Seattle prices: \")\n",
    "plt.hist(df_seattle.price)\n",
    "plt.show()\n",
    "print(\"Seattle ln prices\")\n",
    "plt.hist(np.log(df_seattle.price))\n",
    "plt.show()"
   ]
  },
  {
   "cell_type": "markdown",
   "id": "9deb4206-f06c-497a-a214-71f411e257c6",
   "metadata": {},
   "source": [
    "As seen above, the original prices for Seattle were very right skewed, with another large node in what could be considered outliers. The log-normal graph looks significantly more like a normal distribution, with the exeption of the 2nd node at 6.5-7.0 similar to the original price histogram. "
   ]
  },
  {
   "cell_type": "code",
   "execution_count": 134,
   "id": "1897dbc8-a119-4c37-bfb9-95d3c8e65bc0",
   "metadata": {},
   "outputs": [
    {
     "name": "stdout",
     "output_type": "stream",
     "text": [
      "Beijing prices: \n"
     ]
    },
    {
     "data": {
      "image/png": "[encoded data removed]",
      "text/plain": [
       "<Figure size 432x288 with 1 Axes>"
      ]
     },
     "metadata": {
      "needs_background": "light"
     },
     "output_type": "display_data"
    },
    {
     "name": "stdout",
     "output_type": "stream",
     "text": [
      "Beijing ln prices\n"
     ]
    },
    {
     "data": {
      "image/png": "[encoded data removed]",
      "text/plain": [
       "<Figure size 432x288 with 1 Axes>"
      ]
     },
     "metadata": {
      "needs_background": "light"
     },
     "output_type": "display_data"
    }
   ],
   "source": [
    "# plot Beijing price and log_price\n",
    "print(\"Beijing prices: \")\n",
    "plt.hist(df_beijing.price)\n",
    "plt.show()\n",
    "print(\"Beijing ln prices\")\n",
    "plt.hist(np.log(df_beijing.price))\n",
    "plt.show()"
   ]
  },
  {
   "cell_type": "markdown",
   "id": "4c1f3223-6de7-4e6b-abfd-5692dc98ef83",
   "metadata": {},
   "source": [
    "Also seen above, Beijing has a similar skewed distribution (exponential) like Seattle, except that the outlier-like values do not have as large of a frequency, which is also reflective in the log-normal graph that is again more normal-like than the original price. "
   ]
  },
  {
   "cell_type": "markdown",
   "id": "c814bebc-f613-4910-90d8-49ee4fa23596",
   "metadata": {},
   "source": [
    "#### 4"
   ]
  },
  {
   "cell_type": "code",
   "execution_count": 135,
   "id": "4e47d73b-9ffb-44be-a87a-fc818026499a",
   "metadata": {},
   "outputs": [],
   "source": [
    "# convert prices to ln prices\n",
    "ln_seattle = np.log(df_seattle.price)\n",
    "ln_beijing = np.log(df_beijing.price)"
   ]
  },
  {
   "cell_type": "markdown",
   "id": "da1a8de6-75fc-49ff-b78b-839fff7a1a99",
   "metadata": {},
   "source": [
    "#### 5"
   ]
  },
  {
   "cell_type": "code",
   "execution_count": 136,
   "id": "10d104ad-61a1-4597-9305-23e858a29945",
   "metadata": {},
   "outputs": [
    {
     "name": "stdout",
     "output_type": "stream",
     "text": [
      "Mean difference between Beijing and Seattle: 0.7391737097578659\n"
     ]
    }
   ],
   "source": [
    "# compute and print mean difference between Beij. & Seat. \n",
    "mean_difference = ln_beijing.values.mean() - ln_seattle.values.mean()\n",
    "print(\"Mean difference between Beijing and Seattle: \" + str(mean_difference))"
   ]
  },
  {
   "cell_type": "markdown",
   "id": "b2790e44-db74-465d-8a09-02200c4a3648",
   "metadata": {},
   "source": [
    "#### 6"
   ]
  },
  {
   "cell_type": "code",
   "execution_count": 137,
   "id": "7d6a4b37-dc51-48c2-a2d0-fb806594d4c7",
   "metadata": {},
   "outputs": [
    {
     "name": "stdout",
     "output_type": "stream",
     "text": [
      "Overall mean: 5.56379230780986\n",
      "Overall standard deviation: 0.6413183689687626\n"
     ]
    }
   ],
   "source": [
    "# H0: mu_beijing = mu_seattle, or mu_beijing - mu_seattle = 0\n",
    "# combine log-normal prices\n",
    "ln_bs = ln_seattle.append(ln_beijing)\n",
    "\n",
    "# compute overall mean and std from above series\n",
    "print(\"Overall mean: \" + str(ln_bs.values.mean()))\n",
    "print(\"Overall standard deviation: \" + str(ln_bs.values.std()))"
   ]
  },
  {
   "cell_type": "markdown",
   "id": "54c851d2-f5aa-4bb9-ad67-3f54bf406902",
   "metadata": {},
   "source": [
    "#### 7"
   ]
  },
  {
   "cell_type": "code",
   "execution_count": 138,
   "id": "9ba98e16-015b-4d7b-ba22-781b330945fc",
   "metadata": {},
   "outputs": [
    {
     "name": "stdout",
     "output_type": "stream",
     "text": [
      "Mean difference between fakes: 0.02994000382076134\n"
     ]
    }
   ],
   "source": [
    "# make fake beijing with mean & std same to above, and length of ln_beijing observations\n",
    "fake_b = np.random.normal(ln_bs.values.mean(), scale=ln_bs.values.std(), size = len(ln_beijing))\n",
    "# fake_b #sanity check \n",
    "\n",
    "# make fake seattle with mean & std same to above, and length of ln_beijing observations\n",
    "fake_s = np. random.normal(ln_bs.values.mean(), scale=ln_bs.values.std(), size = len(ln_seattle))\n",
    "# fake_s #sanity check \n",
    "\n",
    "print(\"Mean difference between fakes: \" + str(np.mean(fake_b) - np.mean(fake_s)))"
   ]
  },
  {
   "cell_type": "markdown",
   "id": "80ac14df-9b3a-4fd0-84eb-2ee3203a417b",
   "metadata": {},
   "source": [
    "#### 8"
   ]
  },
  {
   "cell_type": "code",
   "execution_count": 139,
   "id": "906b8463-bf92-42c2-a6ad-434591cafdd2",
   "metadata": {},
   "outputs": [
    {
     "data": {
      "text/plain": [
       "1000"
      ]
     },
     "execution_count": 139,
     "metadata": {},
     "output_type": "execute_result"
    }
   ],
   "source": [
    "# repeat of #7 but for large trials (R = 1000)\n",
    "mean_diff = []\n",
    "for n in range(0, 1000):\n",
    "    curr_b = np.random.normal(ln_bs.values.mean(), scale=ln_bs.values.std(), size = len(ln_beijing))\n",
    "    curr_s = np. random.normal(ln_bs.values.mean(), scale=ln_bs.values.std(), size = len(ln_seattle))\n",
    "    mean_diff.append(np.mean(curr_b) - np.mean(curr_s))\n",
    "\n",
    "len(mean_diff) #sanity check to check there are 1000 mean differences"
   ]
  },
  {
   "cell_type": "markdown",
   "id": "f304faab-db0e-4e94-b9b4-f725bb004da0",
   "metadata": {},
   "source": [
    "#### 9"
   ]
  },
  {
   "cell_type": "code",
   "execution_count": 140,
   "id": "361d688d-b606-43e2-a62e-fad599cde4c9",
   "metadata": {},
   "outputs": [
    {
     "name": "stdout",
     "output_type": "stream",
     "text": [
      "Mean of the mean differences: 0.0011812745832861299\n"
     ]
    }
   ],
   "source": [
    "# compute & print mean of mean diff.\n",
    "print(\"Mean of the mean differences: \" + str(np.mean(mean_diff)))"
   ]
  },
  {
   "cell_type": "markdown",
   "id": "3ab6ed12-417e-4343-b653-868a09b8542b",
   "metadata": {},
   "source": [
    "A mean of mean differences near 0 is expected. When inspecting the mean_diff list, there are both postive and negative means all less than 1 (abs value). Theoretically, if there is no difference between the prices in country there should be a 0 difference between the two means, which is why we see an almost 0 value in a random sample of a finite number of trials. "
   ]
  },
  {
   "cell_type": "markdown",
   "id": "21ff5a50-a0a8-414b-b7a1-6d22a3e7787b",
   "metadata": {},
   "source": [
    "#### 10"
   ]
  },
  {
   "cell_type": "code",
   "execution_count": 141,
   "id": "52c99ed0-5853-4f16-b7aa-185d38b98e32",
   "metadata": {},
   "outputs": [
    {
     "name": "stdout",
     "output_type": "stream",
     "text": [
      "Largest mean difference (abs value): 0.14136787423500063\n"
     ]
    }
   ],
   "source": [
    "print(\"Largest mean difference (abs value): \" + str(np.max(np.abs(mean_diff))))\n",
    "# just judging from this max value, it is wayyy lower than the real mean difference between beijing and seattle..."
   ]
  },
  {
   "cell_type": "markdown",
   "id": "f749ff6b-fafd-4647-a742-5f36f6be799d",
   "metadata": {},
   "source": [
    "#### 11"
   ]
  },
  {
   "cell_type": "code",
   "execution_count": 142,
   "id": "88b8495c-3b24-4672-9479-6f370c457520",
   "metadata": {},
   "outputs": [
    {
     "name": "stdout",
     "output_type": "stream",
     "text": [
      "95% confidence interval: (-0.08519944793538715, 0.09278236600887357)\n"
     ]
    }
   ],
   "source": [
    "mean_diff_array = np.array(mean_diff) # convert to array first \n",
    "\n",
    "# find 2.5 & 97.5th percentile \n",
    "lower = np.percentile(mean_diff_array, 2.5)\n",
    "higher = np.percentile(mean_diff_array, 97.5)\n",
    "\n",
    "# print results\n",
    "print(\"95% confidence interval: (\" + str(lower) + \", \" + str(higher) + \")\")"
   ]
  },
  {
   "cell_type": "markdown",
   "id": "c5abc952-4fbe-4fce-9ac4-d9cc54c6c37b",
   "metadata": {},
   "source": [
    "The actual mean difference between Beijing and Seattle (0.7391737097578659) is significantly higher than the max value in the CI, so no it does not fall into the CI."
   ]
  },
  {
   "cell_type": "markdown",
   "id": "a5ce2435-2968-4a63-9328-6bb10822469a",
   "metadata": {},
   "source": [
    "#### 12"
   ]
  },
  {
   "cell_type": "markdown",
   "id": "f2b884fe-43fb-4545-b52b-11b718415d4f",
   "metadata": {},
   "source": [
    "Based on the simulations above, the observed difference is not a random fluke: prices in Beijing really are more expensive than in Seattle."
   ]
  },
  {
   "cell_type": "markdown",
   "id": "7efb4050-61d9-4c31-81c2-b742987da4c6",
   "metadata": {},
   "source": [
    "## Now repeat the above with t-test\n",
    "#### 1"
   ]
  },
  {
   "cell_type": "code",
   "execution_count": 143,
   "id": "a6be0d89-f571-4c68-8dd8-c674b38b7156",
   "metadata": {},
   "outputs": [
    {
     "name": "stdout",
     "output_type": "stream",
     "text": [
      "Standard error: 0.046252703014433454\n"
     ]
    }
   ],
   "source": [
    "var_b = np.var(ln_beijing)\n",
    "var_s = np.var(ln_seattle)\n",
    "std_error = math.sqrt((var_s/len(ln_seattle))+(var_b/len(ln_beijing)))\n",
    "print(\"Standard error: \" + str(std_error))"
   ]
  },
  {
   "cell_type": "markdown",
   "id": "fe563f9b-7037-4ec8-9bce-f90fbb0aa84b",
   "metadata": {},
   "source": [
    "#### 2"
   ]
  },
  {
   "cell_type": "code",
   "execution_count": 144,
   "id": "3ef6e586-7ea2-4744-b439-a6bd3b4e1460",
   "metadata": {},
   "outputs": [
    {
     "name": "stdout",
     "output_type": "stream",
     "text": [
      "95% confidence interval: (0.648055884819432, 0.8302915346962998)\n"
     ]
    }
   ],
   "source": [
    "# df = 266 -1 = 265\n",
    "t_cr = 1.97 # 0.05 two tail with df 265\n",
    "\n",
    "# compute CI for actual value and check if 0 is in interval\n",
    "lower_t = mean_difference - t_cr * std_error\n",
    "higher_t = mean_difference + t_cr * std_error\n",
    "print(\"95% confidence interval: (\" + str(lower_t) + \", \" + str(higher_t) + \")\")"
   ]
  },
  {
   "cell_type": "markdown",
   "id": "14294030-270d-4419-8f8f-d390388ec2c8",
   "metadata": {},
   "source": [
    "As taken in Hint 3, I compute 95% CI around the actual value, and check of H0 value 0 fits in there: 0 is much less than the lower interval value, so it does not fit in the 95% CI."
   ]
  },
  {
   "cell_type": "markdown",
   "id": "c2e8f91f-86de-41e6-93ed-8c47108c2742",
   "metadata": {},
   "source": [
    "#### 3"
   ]
  },
  {
   "cell_type": "markdown",
   "id": "e5871517-9ce8-4489-b761-016d75b278a4",
   "metadata": {},
   "source": [
    "Based on the CI from #2, I can reject H_0 (Beijing and Seattle are equally expensive) at the 5% level. "
   ]
  },
  {
   "cell_type": "markdown",
   "id": "9a53708d-f0fb-41ac-a552-2105ebf81d87",
   "metadata": {},
   "source": [
    "#### 4"
   ]
  },
  {
   "cell_type": "code",
   "execution_count": 145,
   "id": "8e7a3a98-eade-4608-9af4-ad3c1a6cc717",
   "metadata": {},
   "outputs": [
    {
     "name": "stdout",
     "output_type": "stream",
     "text": [
      "T-value: 15.981200266873094\n"
     ]
    }
   ],
   "source": [
    "# compute t with formula in directions\n",
    "t = mean_difference / std_error\n",
    "print(\"T-value: \" + str(t))"
   ]
  },
  {
   "cell_type": "markdown",
   "id": "e623f465-6feb-4434-919b-5045ae103d88",
   "metadata": {},
   "source": [
    "#### 5"
   ]
  },
  {
   "cell_type": "markdown",
   "id": "c9136b27-e0e5-4822-b7e6-c19d821d48c0",
   "metadata": {},
   "source": [
    "As there is no table that has a t-value ~15.98, I would follow the pattern that, if this is for the same df (so constant degree of freedom), the two tail percent has to be almost 0% to near t = ~15.98 (i.e. MUCH less than 1%)"
   ]
  },
  {
   "cell_type": "markdown",
   "id": "ae1e3578-acf7-4290-b34c-30fdde7ab158",
   "metadata": {},
   "source": [
    "## Use canned t-test function\n",
    "#### 1"
   ]
  },
  {
   "cell_type": "code",
   "execution_count": 146,
   "id": "3c849f6c-8c18-4dbf-a538-0b932c32cebd",
   "metadata": {},
   "outputs": [
    {
     "name": "stdout",
     "output_type": "stream",
     "text": [
      "Test results: \n",
      "Ttest_indResult(statistic=15.954061957013737, pvalue=7.439441804547704e-44)\n"
     ]
    }
   ],
   "source": [
    "# t-test with python function\n",
    "print(\"Test results: \")\n",
    "print(ttest_ind(ln_beijing, ln_seattle, equal_var=False))"
   ]
  },
  {
   "cell_type": "markdown",
   "id": "9592f40c-fb68-4184-b587-63a0b9ab8c62",
   "metadata": {},
   "source": [
    "#### 2"
   ]
  },
  {
   "cell_type": "markdown",
   "id": "291405db-f844-4f34-8f01-0f592490186c",
   "metadata": {},
   "source": [
    "Conclusion: Beijing is more expensive than Seattle.  \n",
    "As seen in the conclusions for simulations and 95% CI, the corresponding values being tested (actual mean difference for simulations, hypothetical 0 for 95% CI) never fell between the CIs, so the H_0 was rejected. Again, as seen directly above, python's t-test shows a p-value less than 0.05 (is actually much smaller), which agrees with the other two methods to reject the null hypothesis. "
   ]
  }
 ],
 "metadata": {
  "kernelspec": {
   "display_name": "Python 3",
   "language": "python",
   "name": "python3"
  },
  "language_info": {
   "codemirror_mode": {
    "name": "ipython",
    "version": 3
   },
   "file_extension": ".py",
   "mimetype": "text/x-python",
   "name": "python",
   "nbconvert_exporter": "python",
   "pygments_lexer": "ipython3",
   "version": "3.8.8"
  }
 },
 "nbformat": 4,
 "nbformat_minor": 5
}
